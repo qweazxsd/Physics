{
 "cells": [
  {
   "cell_type": "code",
   "execution_count": 60,
   "id": "ddd58c7f-41ce-4391-bf15-d3eee96d9f4e",
   "metadata": {
    "tags": []
   },
   "outputs": [],
   "source": [
    "import numpy as np\n",
    "import pandas as pd\n",
    "import os\n",
    "from typing import List"
   ]
  },
  {
   "cell_type": "code",
   "execution_count": 74,
   "id": "5fc3e813-298f-4b39-bbca-480254c3cf61",
   "metadata": {
    "tags": []
   },
   "outputs": [],
   "source": [
    "# enumerating temps\n",
    "temperatures = [100, 105, 10, 110, 115, 120, 125, 130, 135, 13, 140, 145, 150, 155, 15, 160, 165, 170, 175, 180, 185, 190, 195, 200, 205, 20, 210, 215, 220, 225, 230, 235, 240, 250, 25, 260, 270, 27, 280, 290, 300, 30, 35, 40, 45, 50, 53, 55, 57, 5, 60, 63, 65, 70, 75, 80, 85, 8, 90, 95, 245]"
   ]
  },
  {
   "cell_type": "markdown",
   "id": "c10334af-900a-4675-9d7a-dbaa6d83051c",
   "metadata": {},
   "source": [
    "# Data Axes\n",
    "## Order\n",
    "\n",
    "| 0 | 1 | 2 | 3 | 4 |\n",
    "| --- | --- | --- | --- | --- |\n",
    "| power | polarization | temp | column (reflectivity, kerr, delay) | points |\n",
    "\n",
    "\n",
    "## Mapping\n",
    "\n",
    "### power:\n",
    "| 0 | 1 | 2 |\n",
    "| --- | --- | --- |\n",
    "| 10mW | 25mW | 48mW |\n",
    "\n",
    "### polarization:\n",
    "| 0 | 1 | 2 |\n",
    "| --- | --- | --- |\n",
    "| right | left | linear |\n",
    "\n",
    "### temp\n",
    "| 0-60 |\n",
    "| --- |\n",
    "| relevant uniqe temps as enumerated in the cell above |"
   ]
  },
  {
   "cell_type": "code",
   "execution_count": 75,
   "id": "78166e1a-349c-4dd9-b800-64484e7f5fb2",
   "metadata": {
    "tags": []
   },
   "outputs": [],
   "source": [
    "def load_data(folders: List[str]) -> np.ndarray:\n",
    "    \n",
    "    # Dimentions/axes: power, polarization, temp, column (reflectivity, kerr, delay), points\n",
    "    data = np.empty((3,3,61,3,3200))\n",
    "    \n",
    "    \n",
    "    #temps = []  # for finding uniqe temps\n",
    "    \n",
    "    \n",
    "    #file_counter = 0  # for counting total number of files\n",
    "    \n",
    "    \n",
    "    for folder in folders:\n",
    "        for root, subdirs, files in os.walk(folder):\n",
    "            for fname in files:\n",
    "                if fname[:9] == \"PumpProbe\":\n",
    "                    #file_counter += 1  # for counting total number of files\n",
    "                    \n",
    "                    splitted_str = fname.split(\"_\")\n",
    "                    \n",
    "                    ########### power ############\n",
    "                    power = int(splitted_str[5][:2])\n",
    "                    if power == 40:\n",
    "                        power = 25\n",
    "                    \n",
    "                    if power == 10:\n",
    "                        axis_power = 0\n",
    "                    elif power == 25:\n",
    "                        axis_power = 1\n",
    "                    elif power == 48:\n",
    "                        axis_power = 2\n",
    "                    ##############################\n",
    "                    \n",
    "                    \n",
    "                    ############ temp ############\n",
    "                    temp = int(splitted_str[4][:-1])\n",
    "                    #if temp not in temps:  # for finding uniqe temps\n",
    "                        #temps.append(temp)\n",
    "                    \n",
    "                    axis_temp = temperatures.index(temp)\n",
    "                    ##############################\n",
    "                    \n",
    "                    \n",
    "                    ############ polarization ############\n",
    "                    polarization = splitted_str[-1]\n",
    "                    \n",
    "                    if polarization == \"right\":\n",
    "                        axis_pol = 0\n",
    "                    elif polarization == \"left\":\n",
    "                        axis_pol = 1\n",
    "                    elif polarization == \"lin\":\n",
    "                        axis_pol = 2\n",
    "                    ######################################\n",
    "                    measurement = pd.read_csv(os.path.join(root, fname),header = 9).to_numpy()\n",
    "                    \n",
    "                    \n"
   ]
  },
  {
   "cell_type": "code",
   "execution_count": 76,
   "id": "d77dba61-2f12-4b35-af30-ac9f93d05e1c",
   "metadata": {
    "tags": []
   },
   "outputs": [],
   "source": [
    "load_data([r\"Data\\polarization temp run10mW\", r\"Data\\polarization temp run25mW\", r\"Data\\polarization temp run48mW\"])"
   ]
  },
  {
   "cell_type": "code",
   "execution_count": null,
   "id": "ae0cedd3-cb62-4191-a301-530c23bcb9b5",
   "metadata": {},
   "outputs": [],
   "source": []
  }
 ],
 "metadata": {
  "kernelspec": {
   "display_name": "Python 3 (ipykernel)",
   "language": "python",
   "name": "python3"
  },
  "language_info": {
   "codemirror_mode": {
    "name": "ipython",
    "version": 3
   },
   "file_extension": ".py",
   "mimetype": "text/x-python",
   "name": "python",
   "nbconvert_exporter": "python",
   "pygments_lexer": "ipython3",
   "version": "3.9.12"
  }
 },
 "nbformat": 4,
 "nbformat_minor": 5
}
