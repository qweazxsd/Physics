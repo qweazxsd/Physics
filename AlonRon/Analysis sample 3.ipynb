{
 "cells": [
  {
   "cell_type": "code",
   "execution_count": 1,
   "id": "1fd984a7",
   "metadata": {},
   "outputs": [],
   "source": [
    "import pandas as pd\n",
    "import glob\n",
    "from pathlib import Path\n",
    "import matplotlib.pyplot as plt\n",
    "import matplotlib\n",
    "import numpy as np\n",
    "from scipy.interpolate import interp1d\n",
    "from os import walk\n",
    "import re\n",
    "from scipy.fft import fft, fftfreq,ifft\n",
    "import scipy.optimize\n",
    "import scipy.signal\n",
    "##Plots displayed in a separate window\n",
    "%matplotlib qt\n",
    "from scipy import signal\n",
    "\n",
    "time_zero = -0.8258\n",
    "\n",
    "Rel_Delta_X2 = 'Rel_Delta_X2'\n",
    "Rel_Delta_X = 'Rel_Delta_X'\n",
    "Delay = 'Delay [ps]'\n",
    "\n",
    "\n",
    "def Load_data(folder,datatype = 'temperatures',temp_loc = 1):\n",
    "    ####datatype = all loads the filenames to the dictionary\n",
    "    ####datatype = separate2: first dictionary is polarizations (3 last letters of file) inner dictionary is temperatures (taken from temp_loc = )\n",
    "    ####datatype = separate1: first dictionary is temperatures inner dictionary is polarizations (taken from temp_loc = )\n",
    "        import re    ##helps finding numbers in strings\n",
    "        \n",
    "\n",
    "        \"\"\"Loads data to a dictionary for datatype == 0 and to a list for datatype == 1 globals if datatype == 2\"\"\"\n",
    "        \n",
    "        data = {}\n",
    "        path = folder +\"\\\\\"\n",
    "        files = next(walk(path), (None, None, []))[2] \n",
    "        \n",
    "        for f in files:\n",
    "            if datatype == 'temperatures':\n",
    "                temperature = re.findall(r'\\d+', f)[temp_loc]          \n",
    "                data.update({str(temperature):pd.read_csv(path+f,header = 9)}) \n",
    "            if datatype == 'separate':\n",
    "                temperature = re.findall(r'\\d+', f)[temp_loc]          \n",
    "              \n",
    "                polarizaton = f[-3:]\n",
    "                if str(temperature) in data.keys():\n",
    "                    data[str(temperature)].update({polarizaton:pd.read_csv(path+f,header = 9)})\n",
    "                else:\n",
    "                    data.update({str(temperature):  {polarizaton : pd.read_csv(path+f,header = 9)}  }) \n",
    "                    \n",
    "            if datatype == 'separate2':\n",
    "                temperature = re.findall(r'\\d+', f)[temp_loc]          \n",
    "             \n",
    "                polarizaton = f[-3:]\n",
    "                if polarizaton in data.keys():\n",
    "                    data[polarizaton].update({str(temperature):pd.read_csv(path+f,header = 9)})\n",
    "                else:\n",
    "                    data.update({polarizaton:  {str(temperature) : pd.read_csv(path+f,header = 9)}  }) \n",
    "                    \n",
    "                    \n",
    "                    \n",
    "            if datatype == 'separate3':\n",
    "                temperature = re.findall(r'\\d+', f)[temp_loc]          \n",
    "                duration = f[-4:]\n",
    "   \n",
    "                \n",
    "                if duration == 'long':\n",
    "                    if 'long' in data:\n",
    "                        data[duration].update({str(temperature):pd.read_csv(path+f,header = 9)})\n",
    "                    else:\n",
    "                        data.update({duration:  {str(temperature) : pd.read_csv(path+f,header = 9)}  })         \n",
    "                else:\n",
    "                    if 'short' in data:\n",
    "                        data['short'].update({str(temperature):pd.read_csv(path+f,header = 9)})\n",
    "                    else:\n",
    "                        data.update({'short':  {str(temperature) : pd.read_csv(path+f,header = 9)}  })         \n",
    "                    \n",
    "            if datatype == 'all':\n",
    "                print('all is all')\n",
    "                data.update({f:pd.read_csv(path+f,header = 9)}) \n",
    "            #data.update({Path(f).stem.replace('-','_'):pd.read_csv(f,sheader = 9)})\n",
    "            if datatype == 'LockinT':\n",
    "                data.update({f:pd.read_csv(path+f,header = 6)}) \n",
    "        return(data)\n",
    "\n",
    "def plot_PumpProbe(data,data2 = [],X = 'Delay [ps]',Y = 'Rel_Delta_X',subtract = 0,to_zero = 1,time_zero = 0,norm = 0,plot = 1,slicer = [0,-1]):\n",
    "    before_t_zero = slice(-20,-1)\n",
    "#     before_t_zero = slice(0,20)\n",
    "    S = slice(slicer[0],slicer[1])\n",
    "    dataX = data[X][S]\n",
    "    dataY = data[Y][S]\n",
    "    if subtract == 1:\n",
    "        data2Y = data2[Y][S]\n",
    "    if to_zero == 1:\n",
    "        y_average = np.mean(np.array(data[Y])[before_t_zero])\n",
    "        if subtract == 1:\n",
    "            y_average2 = np.mean(np.array(data2[Y])[before_t_zero])\n",
    "        if subtract == 2:\n",
    "            y_average2 = np.mean(np.array(data2[Y])[before_t_zero])\n",
    "    else:\n",
    "        y_average = 0\n",
    "        y_average2 = 0\n",
    "    if subtract == 0:\n",
    "        if norm == 0:\n",
    "            if plot == 1:\n",
    "                plt.plot(np.array(dataX)-time_zero,dataY-y_average)\n",
    "        else:\n",
    "            if plot == 1:\n",
    "                plt.plot(np.array(dataX)-time_zero,(dataY-y_average)/np.max(np.abs(np.array(dataY-y_average))))\n",
    "\n",
    "    dictionary = {X:np.array(dataX)-time_zero,Y:np.array(dataY)-y_average}   \n",
    "        \n",
    "    if subtract == 1:\n",
    "        if plot == 1:\n",
    "            \n",
    "            plt.plot(np.array(dataX)-time_zero,(dataY-data2Y-y_average+y_average2)/2)\n",
    "        dictionary = {X:np.array(dataX)-time_zero,Y:(dataY-y_average-data2Y+y_average2)/2}\n",
    "\n",
    "    if subtract == 2:\n",
    "        if plot == 1:\n",
    "            \n",
    "            plt.plot(np.array(dataX)-time_zero,(data[Y]+data2Y-y_average-y_average2)/2)\n",
    "        dictionary = {X:np.array(dataX)-time_zero,Y:(dataX-y_average+data2Y-y_average2)/2}\n",
    "\n",
    "    return(dictionary)\n",
    "\n",
    "\n",
    "def plot_fft_T(data,X = 'Delay [ps]',Y = 'Rel_Delta_X',shape = 1):\n",
    "    \"\"\"if fit == 1 returns lorenzian fit amplitude. else returns max value\"\"\"    \n",
    "    fft_dict = {}\n",
    "    T = []\n",
    "    Amp = []\n",
    "    Freq = []\n",
    "    Fwhm = []\n",
    "    for arr in data:\n",
    "        \n",
    "        (amp,freq,fwhm) = fit_peak(data[arr],plot = 0,shape = shape)\n",
    "        T.append(int(arr))\n",
    "        Amp.append(amp)\n",
    "        Freq.append(freq)\n",
    "        Fwhm.append(fwhm)\n",
    "        \n",
    "        #(fft_data_x,fft_data_y) = plot_fft(data[arr])\n",
    "        #fft_dict.update({arr:(fft_data_x,fft_data_y)})\n",
    "        #T.append(int(arr))\n",
    "        #maxfft.append(np.max(fft_data_y))\n",
    "    plt.subplot(3,1,1)\n",
    "    plt.plot(T,Amp,'o')\n",
    "    plt.subplot(3,1,2)\n",
    "    plt.plot(T,Freq,'o')\n",
    "    plt.subplot(3,1,3)\n",
    "    plt.plot(T,Fwhm,'o')\n",
    "    return(T,Amp,Freq,Fwhm)\n",
    "\n",
    "def plot_fft_T_max(data,X = 'Delay [ps]',Y = 'Rel_Delta_X',min_range=3.3,max_range = 3.5,plot = 1,slicer = [0,-1],background = 0):\n",
    "\n",
    "    fft_dict = {}\n",
    "    T = []\n",
    "    Amp = []\n",
    "    \n",
    "    \n",
    "   \n",
    "    for arr in data:\n",
    "        if background == 1:\n",
    "            amp= max_peak2(fit_fft_bg(data[arr],X = X,Y = Y),X = X,Y = Y,slicer = slicer)\n",
    "#         if background == 1:\n",
    "        \n",
    "#         ###Lazy background subtraction, removing the average between two points before and after the peak region\n",
    "#             diff_1THz = np.array(data[arr][X])-1\n",
    "#             ind_1THz = diff_1THz.argmin()\n",
    "#             q(ind_1THz)\n",
    "# #             bg = (max_peak2(data[arr],X=X,Y=Y,min_range = 2,max_range = 2.1,slicer = slicer)+max_peak2(data[arr],X=X,Y=Y,min_range = 5,max_range = 5.1,slicer = slicer))/2\n",
    "#             bg = (max_peak2(data[arr],X=X,Y=Y,min_range = min_range*0.95,max_range =min_range*0.97 ,slicer = slicer)+max_peak2(data[arr],X=X,Y=Y,min_range = max_range*1.02,max_range = max_range*1.05,slicer = slicer))/2\n",
    "              \n",
    "        else:\n",
    "            amp = max_peak2(data[arr],X=X,Y=Y,min_range = min_range,max_range = max_range,slicer = slicer)\n",
    "        T.append(int(arr))\n",
    "        Amp.append(amp)\n",
    "        \n",
    "        \n",
    "        #(fft_data_x,fft_data_y) = plot_fft(data[arr])\n",
    "        #fft_dict.update({arr:(fft_data_x,fft_data_y)})\n",
    "        #T.append(int(arr))\n",
    "        #maxfft.append(np.max(fft_data_y))\n",
    "#     plt.subplot(3,1,1)\n",
    "    if plot == 1:    \n",
    "        plt.plot(T,Amp,'o')\n",
    "#     plt.subplot(3,1,2)\n",
    "#     plt.plot(T,Freq,'o')\n",
    "#     plt.subplot(3,1,3)\n",
    "#     plt.plot(T,Fwhm,'o')\n",
    "    return(T,Amp)\n",
    "\n",
    "def plot_fft(data,X = 'Delay [ps]',Y = 'Rel_Delta_X',returning = 0,plot = 1,slicer = [0,-1]):\n",
    "    \"\"\"plot: 0 => power spectrum, 1=> phase, 2=> complex number. The function returns what it plots\"\"\"\n",
    "    S = slice(slicer[0],slicer[1])\n",
    "    x = np.array(data[X][S])\n",
    "    y = np.array(data[Y][S])\n",
    "\n",
    "    \n",
    "    # sample spacing\n",
    "\n",
    "    T = np.abs(x[2]-x[1])\n",
    "    \n",
    "    # Number of sample points\n",
    "\n",
    "    N = int(np.round(np.abs(np.max(x)-np.min(x))/T)+1)\n",
    "\n",
    "    yf = fft(np.array(y))\n",
    "\n",
    "    xf = fftfreq(N, T)[:N//2]\n",
    "    \n",
    "    if returning == 0:\n",
    "        yreturn = 2.0/N * np.abs(yf[0:N//2])\n",
    "        if plot == 1:\n",
    "            plt.plot(xf,yreturn)\n",
    "\n",
    "    if returning == 1:\n",
    "        yreturn = np.unwrap(np.angle(yf[0:N//2]))  \n",
    "        if plot == 1:\n",
    "            plt.plot(xf,yreturn)\n",
    "\n",
    "    if returning == 2:\n",
    "        yreturn =  2.0/N * yf[0:N//2]\n",
    "    return(np.array(xf),np.array(yreturn))\n",
    "\n",
    "\n",
    "\n",
    "def max_peak(arr,X = 'Delay [ps]',Y = 'Rel_Delta_X',min_range = 60,max_range = 190,plot = 0,slicer = [0,-1]):\n",
    "    (x,y) = plot_fft(arr,X,Y,plot = 0,slicer = slicer)\n",
    "    freq_ind = np.argmax(y[min_range:max_range])\n",
    "    if plot == 1:\n",
    "        plt.plot(x[min_range:max_range],y[min_range:max_range],'o')\n",
    "        plt.plot(x,y)\n",
    "    return(np.max(y[min_range:max_range]),x[min_range:max_range][freq_ind])\n",
    "\n",
    "def max_peak2(arr,X = 'Delay [ps]',Y = 'Rel_Delta_X',min_range = 3.3,max_range = 3.5,plot = 0,slicer = [0,-1]):\n",
    "    (x,y) = plot_fft(arr,X=X,Y=Y,plot = 0,slicer = slicer)\n",
    "    \n",
    "    diff = np.array(x-min_range)\n",
    "    f_min_ind = np.abs(diff).argmin()\n",
    "    diff = np.array(x-max_range)\n",
    "    f_max_ind = np.abs(diff).argmin()\n",
    "    f_range = slice(f_min_ind,f_max_ind)\n",
    "    \n",
    "    if plot == 1:\n",
    "        plt.plot(x[f_range],y[f_range],'o')\n",
    "        plt.plot(x,y)\n",
    "    return(np.max(y[f_range]))\n",
    "\n",
    "def plot_LockinT(data,X = 'Temp',Y = 'Kerr',norm = 0):\n",
    "    if norm ==0:\n",
    "        plt.plot(data[X],data[Y])\n",
    "    if norm  == 1:\n",
    "        plt.plot(data[X],data[Y]/np.max(data[Y]))\n",
    "        \n",
    "        \n",
    "def colorplot(data,Y = 'Rel_Delta_X',X = 'Delay [ps]',length = 'short'):\n",
    "    T = []\n",
    "    Z = []\n",
    "    \n",
    "    for d in data[length]:\n",
    "        data = plot_PumpProbe(data[length][d],plot=0)\n",
    "\n",
    "        x = np.array(data[length][d][X])\n",
    "        T.append(int(d))\n",
    "        #(xx,y) = plot_PumpProbe(data[length][d],X = X,Y = Y,plot = 0)\n",
    "        to_subtract = np.mean(np.array(data[length][d][-20:-1]))\n",
    "        Z.append(data[length][d][Y]) \n",
    "       \n",
    "        #Z.append(y)\n",
    "    T = np.array(T)\n",
    "    ind = np.argsort(T)\n",
    "    Z = np.array(Z)\n",
    "    \n",
    "    plt.pcolormesh(x,T[ind],Z[ind],shading='nearest')\n",
    "    return(x,T[ind],Z[ind])\n",
    "\n",
    "       \n",
    "def colorplot2(data,Y = 'Rel_Delta_X',X = 'Delay [ps]',key = 'lin',to_zero = 1,subtract = 0,slicer = [0,-1],filter = 0,filt_phonons = 0):\n",
    "    import matplotlib.colors as colors\n",
    "    T = []\n",
    "    Z = []\n",
    "    \n",
    "    if subtract == 1:\n",
    "        length = 'eft'\n",
    "    for d in data[key]:\n",
    "        if subtract == 0:\n",
    "            \n",
    "            dat = plot_PumpProbe(data[key][d],plot=0,to_zero=to_zero,X=X,Y = Y,slicer = slicer)\n",
    "            if filt_phonons == 1:\n",
    "                dat = filter_phonons(dat,plot=0,Y = Y)\n",
    "               \n",
    "        if subtract == 1:\n",
    "            \n",
    "            dat = plot_PumpProbe(data['ght'][d],data['eft'][d],plot=0,to_zero=to_zero,X=X,Y = Y,subtract=1,slicer = slicer)\n",
    "\n",
    "        x = np.array(dat[X])\n",
    "        T.append(int(d))\n",
    "        #(xx,y) = plot_PumpProbe(data[length][d],X = X,Y = Y,plot = 0)\n",
    "        \n",
    "        Z.append(dat[Y]) \n",
    "        #Z.append(y)\n",
    "    T = np.array(T)\n",
    "    ind = np.argsort(T)\n",
    "    Z = np.array(Z)\n",
    "\n",
    "    #plt.pcolormesh(x,T[ind],Z[ind],norm=colors.LogNorm(vmin=Z[ind].min(), vmax=Z[ind].max()/100),cmap='PuBu_r', shading='auto')\n",
    "    map = plt.pcolormesh(x,T[ind],Z[ind], shading='auto')\n",
    "#     \n",
    "    return(x,T[ind],Z[ind],map)\n",
    "\n",
    "\n",
    "def plot_rot_ref(data):\n",
    "    T = []\n",
    "    rot = []\n",
    "    ref = []\n",
    "    for t in data['short']:\n",
    "        T.append(int(t))\n",
    "        rot.append(data['short'][str(t)]['Reflectivity'][0])\n",
    "        ref.append(data['short'][str(t)]['Reflectivity2'][0])\n",
    "    plt.subplot(2,1,1)\n",
    "    plt.plot(T,np.array(rot)/(np.array(ref)*25),'o')\n",
    "    plt.subplot(2,1,2)\n",
    "    plt.plot(T,np.array(ref)*25,'o')\n",
    "\n",
    "    \n",
    "def plot_left_right(data,X = 'Delay [ps]',Y = 'Rel_Delta_X',subtract = 1,plot = 1):\n",
    "    to_plot = plot_PumpProbe(data['eft'],data['ght'],X = X,Y=Y,plot=plot,subtract = subtract)\n",
    "    return(to_plot)\n",
    "\n",
    "def subtract_dictionary(data,X = 'Delay [ps]',Y = 'Rel_Delta_X',subtract = 1,key1 = 'eft',key2 = 'ght',plot = 0):\n",
    "    ##############create subtracted dictionary for all temperatures\n",
    "\n",
    "    if subtract == 1:\n",
    "        subdata = {}\n",
    "        for t in data[key1]:\n",
    "            d = plot_PumpProbe(data[key1][t],data[key2][t],subtract=1,plot = plot,Y = Y)    \n",
    "            to_add = {t:d}\n",
    "            subdata.update(to_add)\n",
    "#     else:\n",
    "#         dict = {}\n",
    "#         for t in spot3_pol_run2_pol[key1]:\n",
    "#             d = plot_PumpProbe(spot3_pol_run2_pol[key1][t],spot3_pol_run2_pol[key2][t],subtract=1,plot = 0)    \n",
    "#             dict.update(d)\n",
    "            \n",
    "    return(subdata)\n",
    "\n",
    "\n",
    "\n",
    "\n",
    "\n",
    "\n",
    "def filter_phonons(data,Y = 'Rel_Delta_X',X = 'Delay [ps]',f1 = 3.412,f2 = 2.67,f3 = 2.407,f4 = 4.147,Q = 2,plot =0):\n",
    "     \n",
    "\n",
    "    \n",
    "    x = data[X]\n",
    "    y = data[Y]\n",
    "\n",
    "    # Create/view notch filter\n",
    "    samp_freq = np.abs(1/(x[1]-x[0]))  # Sample frequency (THz)\n",
    "    quality_factor = Q\n",
    "    # Design a notch filter using signal.iirnotch\n",
    "    b_notch1, a_notch1 = signal.iirnotch(f1, quality_factor, samp_freq)\n",
    "    b_notch2, a_notch2 = signal.iirnotch(f2, quality_factor, samp_freq)\n",
    "    b_notch3, a_notch3 = signal.iirnotch(f3, quality_factor, samp_freq)\n",
    "    b_notch4, a_notch4 = signal.iirnotch(f4, quality_factor, samp_freq)\n",
    "    \n",
    "    b_lpf,a_lpf = signal.butter(3,10,fs=samp_freq)\n",
    "    # Compute magnitude response of the designed filter\n",
    "#     freq, h = signal.freqz(b_notch, a_notch, fs=2*np.pi)\n",
    "\n",
    "#     fig = plt.figure(figsize=(8, 6))\n",
    "\n",
    "    # Plot magnitude response of the filter\n",
    "    # plt.plot(freq*samp_freq/(2*np.pi), 20 * np.log10(abs(h)),'r', label='Bandpass filter', linewidth='2')\n",
    "\n",
    "    # plt.xlabel('Frequency [Hz]', fontsize=20)\n",
    "    # plt.ylabel('Magnitude [dB]', fontsize=20)\n",
    "    # plt.title('Notch Filter', fontsize=20)\n",
    "    # plt.grid()\n",
    "\n",
    "\n",
    "    # Apply notch filter to the noisy signal using signal.filtfilt\n",
    "    outputSignal = signal.filtfilt(b_notch1, a_notch1, y)\n",
    "    outputSignal = signal.filtfilt(b_notch2, a_notch2, outputSignal)\n",
    "    outputSignal = signal.filtfilt(b_notch3, a_notch3, outputSignal)\n",
    "    outputSignal = signal.filtfilt(b_notch4, a_notch4, outputSignal)\n",
    "    outputSignal = signal.filtfilt(b_lpf, a_lpf, outputSignal)\n",
    "    if plot == 1:\n",
    "        plt.plot(x,outputSignal)\n",
    "    dictionary = {X:x,Y:outputSignal}\n",
    "    return dictionary\n",
    "\n",
    "def fit_fft_bg(data,Y = 'Rel_Delta_X',X = 'Delay [ps]',f_min = 8,f_max = 12,plot = 0,slicer = [0,-1]):\n",
    "    (x,y) = plot_fft(data,Y = Y,X = X,plot = plot,slicer = slicer)\n",
    "    \n",
    "    diff_f1THz = np.array(x)-1\n",
    "    diff_f2THz = np.array(x)-2\n",
    "    diff_fmin = np.array(x)-f_min\n",
    "    diff_fmax = np.array(x)-f_max\n",
    "    \n",
    "    ind_1THz = np.abs(diff_f1THz).argmin()\n",
    "    ind_2THz = np.abs(diff_f2THz).argmin()\n",
    "    ind_min = np.abs(diff_fmin).argmin()\n",
    "    ind_max = np.abs(diff_fmax).argmin()\n",
    "    \n",
    "    s = slice(ind_min,ind_max)\n",
    "    s2 = slice(ind_1THz,ind_2THz)\n",
    "    x_fit = np.concatenate((x[s],x[s2]))\n",
    "    y_fit = np.concatenate((y[s],y[s2]))\n",
    "    \n",
    "    p = np.poly1d(np.polyfit(x_fit,y_fit,3))\n",
    "    s3 = slice(ind_1THz,ind_max)\n",
    "    if plot == 1:\n",
    "        plt.subplot(211)\n",
    "        plt.plot(x,y)\n",
    "        plt.plot(x_fit,y_fit)\n",
    "        \n",
    "        plt.plot(x[s3],p(x[s3]))\n",
    "        plt.subplot(212)\n",
    "        plt.plot(x[s3],y[s3]-p(x[s3]))\n",
    "    d = {X:x[s3],Y:y[s3]-p(x[s3])}\n",
    "    return(d)\n",
    "\n",
    "\n",
    "\n",
    "def PP_shapeexp1(x, A1,tau,c):\n",
    "#     time_zero = -1.09715\n",
    "    return (    (    A1*np.exp(-(x-time_zero)/tau)  +c )  *np.heaviside(x-time_zero,1))\n",
    "\n",
    "\n",
    "\n",
    "\n",
    "\n",
    "\n",
    "def fit_PPexp1(arr,X = 'Delay [ps]',Y = 'Rel_Delta_X',plot = 0):\n",
    "    x=arr[X]\n",
    "    y=arr[Y]\n",
    "#     time_zero = -1.09715\n",
    "    y = y-np.mean(y[-20:-1])\n",
    "    ##############  A1, tau, A2, f, phi, tau2, A3, tau3\n",
    "    lower_bound = (-5e-3,0,-1)\n",
    "    upper_bound = (0,6,1)\n",
    "    guess = (-3e-4,3,0)\n",
    "#     upper_bound = (0,20,5e-1,4,2*np.pi,20,0,20)\n",
    "#     initial_guess = (-6e-4,5,1e-4,3.7,0,10,0,10)\n",
    "    fitting_parameters, covariance = scipy.optimize.curve_fit(PP_shapeexp1,x ,y,bounds=(lower_bound,upper_bound),p0=guess)\n",
    "    (A1,tau,c) = fitting_parameters\n",
    "    if plot == 1:\n",
    "        plt.subplot(2,1,1)\n",
    "        plt.plot(x,y)\n",
    "        plt.plot(x, (    A1*np.exp(-(x-time_zero)/tau)   +c )  *np.heaviside(x-time_zero,1))\n",
    "        plt.subplot(2,1,2)\n",
    "        plt.plot(x,y-(    A1*np.exp(-(x-time_zero)/tau)   +c )  *np.heaviside(x-time_zero,1))\n",
    "    arr_return = {'Delay [ps]':x,'Rel_Delta_X':y-(    A1*np.exp(-(x-time_zero)/tau)      +c )  *np.heaviside(x-time_zero,1)}\n",
    "    return(A1,tau,c,arr_return)\n",
    "\n",
    "\n",
    "def PP_shapeexp2(x, A1,tau,A3,tau3,c):\n",
    "#     time_zero = -1.09715\n",
    "    return (    (    A1*np.exp(-(x-time_zero)/tau) + A3*np.exp(-(x-time_zero)/tau3)  +c )  *np.heaviside(x-time_zero,1))\n",
    "\n",
    "\n",
    "\n",
    "\n",
    "\n",
    "\n",
    "def fit_PPexp2(arr,X = 'Delay [ps]',Y = 'Rel_Delta_X',plot = 0):\n",
    "    x=arr[X]\n",
    "    y=arr[Y]\n",
    "#     time_zero = -1.09715\n",
    "    y = y-np.mean(y[-20:-1])\n",
    "    ##############  A1,tau,A3,tau3,c\n",
    "    lower_bound = (-5e-2,0,0,0,-1)\n",
    "    upper_bound = (0,100,5e-2,30000,1)\n",
    "    guess = (-3e-4,2,1e-4,10,0)\n",
    "#     upper_bound = (0,20,5e-1,4,2*np.pi,20,0,20)\n",
    "#     initial_guess = (-6e-4,5,1e-4,3.7,0,10,0,10)\n",
    "    fitting_parameters, covariance = scipy.optimize.curve_fit(PP_shapeexp2,x ,y,bounds=(lower_bound,upper_bound),p0=guess)\n",
    "    (A1,tau,A3,tau3,c) = fitting_parameters\n",
    "    \n",
    "    y_fit =   (  (    A1*np.exp(-(x-time_zero)/tau) + A3*np.exp(-(x-time_zero)/tau3)  +c )  *np.heaviside(x-time_zero,1))\n",
    "    if plot == 1:\n",
    "        plt.subplot(2,1,1)\n",
    "        plt.plot(x,y)\n",
    "\n",
    "        plt.plot(x, y_fit)\n",
    "        plt.subplot(2,1,2)\n",
    "        plt.plot(x,y-y_fit)\n",
    "    arr_return = {'Delay [ps]':x,'Rel_Delta_X':y-y_fit}\n",
    "    return(A1,tau,A3,tau3,c,arr_return)\n",
    "\n",
    "\n"
   ]
  },
  {
   "cell_type": "code",
   "execution_count": 59,
   "id": "591c71ee",
   "metadata": {},
   "outputs": [
    {
     "data": {
      "text/html": [
       "<div>\n",
       "<style scoped>\n",
       "    .dataframe tbody tr th:only-of-type {\n",
       "        vertical-align: middle;\n",
       "    }\n",
       "\n",
       "    .dataframe tbody tr th {\n",
       "        vertical-align: top;\n",
       "    }\n",
       "\n",
       "    .dataframe thead th {\n",
       "        text-align: right;\n",
       "    }\n",
       "</style>\n",
       "<table border=\"1\" class=\"dataframe\">\n",
       "  <thead>\n",
       "    <tr style=\"text-align: right;\">\n",
       "      <th></th>\n",
       "      <th>Delay [ps]</th>\n",
       "      <th>R</th>\n",
       "      <th>X</th>\n",
       "      <th>Y</th>\n",
       "      <th>Duration</th>\n",
       "      <th>Rel_Delta_R</th>\n",
       "      <th>Rel_Delta_X</th>\n",
       "      <th>Rel_Delta_Y</th>\n",
       "      <th>Reflectivity</th>\n",
       "      <th>R2</th>\n",
       "      <th>X2</th>\n",
       "      <th>Y2</th>\n",
       "      <th>Rel_Delta_R2</th>\n",
       "      <th>Rel_Delta_X2</th>\n",
       "      <th>Rel_Delta_Y2</th>\n",
       "      <th>Reflectivity2</th>\n",
       "    </tr>\n",
       "  </thead>\n",
       "  <tbody>\n",
       "    <tr>\n",
       "      <th>0</th>\n",
       "      <td>26.685128</td>\n",
       "      <td>0.000022</td>\n",
       "      <td>0.000019</td>\n",
       "      <td>-0.000012</td>\n",
       "      <td>9.456897</td>\n",
       "      <td>0.000044</td>\n",
       "      <td>0.000038</td>\n",
       "      <td>-0.000023</td>\n",
       "      <td>0.094843</td>\n",
       "      <td>0.001562</td>\n",
       "      <td>0.001555</td>\n",
       "      <td>0.000151</td>\n",
       "      <td>0.077676</td>\n",
       "      <td>0.077314</td>\n",
       "      <td>0.007492</td>\n",
       "      <td>0.020109</td>\n",
       "    </tr>\n",
       "    <tr>\n",
       "      <th>1</th>\n",
       "      <td>26.675743</td>\n",
       "      <td>0.000050</td>\n",
       "      <td>0.000050</td>\n",
       "      <td>-0.000009</td>\n",
       "      <td>9.712493</td>\n",
       "      <td>0.000100</td>\n",
       "      <td>0.000099</td>\n",
       "      <td>-0.000018</td>\n",
       "      <td>0.094843</td>\n",
       "      <td>0.000245</td>\n",
       "      <td>0.000244</td>\n",
       "      <td>0.000023</td>\n",
       "      <td>0.012163</td>\n",
       "      <td>0.012110</td>\n",
       "      <td>0.001130</td>\n",
       "      <td>0.020109</td>\n",
       "    </tr>\n",
       "    <tr>\n",
       "      <th>2</th>\n",
       "      <td>26.666359</td>\n",
       "      <td>0.000065</td>\n",
       "      <td>0.000065</td>\n",
       "      <td>-0.000010</td>\n",
       "      <td>9.958434</td>\n",
       "      <td>0.000130</td>\n",
       "      <td>0.000128</td>\n",
       "      <td>-0.000019</td>\n",
       "      <td>0.094843</td>\n",
       "      <td>0.000025</td>\n",
       "      <td>0.000024</td>\n",
       "      <td>0.000009</td>\n",
       "      <td>0.001265</td>\n",
       "      <td>0.001183</td>\n",
       "      <td>0.000448</td>\n",
       "      <td>0.020109</td>\n",
       "    </tr>\n",
       "    <tr>\n",
       "      <th>3</th>\n",
       "      <td>26.656974</td>\n",
       "      <td>0.000070</td>\n",
       "      <td>0.000069</td>\n",
       "      <td>-0.000010</td>\n",
       "      <td>10.202223</td>\n",
       "      <td>0.000139</td>\n",
       "      <td>0.000137</td>\n",
       "      <td>-0.000020</td>\n",
       "      <td>0.094843</td>\n",
       "      <td>0.000014</td>\n",
       "      <td>-0.000012</td>\n",
       "      <td>0.000007</td>\n",
       "      <td>0.000680</td>\n",
       "      <td>-0.000579</td>\n",
       "      <td>0.000357</td>\n",
       "      <td>0.020109</td>\n",
       "    </tr>\n",
       "    <tr>\n",
       "      <th>4</th>\n",
       "      <td>26.647590</td>\n",
       "      <td>0.000070</td>\n",
       "      <td>0.000069</td>\n",
       "      <td>-0.000012</td>\n",
       "      <td>10.448971</td>\n",
       "      <td>0.000140</td>\n",
       "      <td>0.000138</td>\n",
       "      <td>-0.000023</td>\n",
       "      <td>0.094843</td>\n",
       "      <td>0.000019</td>\n",
       "      <td>-0.000018</td>\n",
       "      <td>0.000007</td>\n",
       "      <td>0.000936</td>\n",
       "      <td>-0.000876</td>\n",
       "      <td>0.000330</td>\n",
       "      <td>0.020109</td>\n",
       "    </tr>\n",
       "    <tr>\n",
       "      <th>...</th>\n",
       "      <td>...</td>\n",
       "      <td>...</td>\n",
       "      <td>...</td>\n",
       "      <td>...</td>\n",
       "      <td>...</td>\n",
       "      <td>...</td>\n",
       "      <td>...</td>\n",
       "      <td>...</td>\n",
       "      <td>...</td>\n",
       "      <td>...</td>\n",
       "      <td>...</td>\n",
       "      <td>...</td>\n",
       "      <td>...</td>\n",
       "      <td>...</td>\n",
       "      <td>...</td>\n",
       "      <td>...</td>\n",
       "    </tr>\n",
       "    <tr>\n",
       "      <th>3195</th>\n",
       "      <td>-3.298103</td>\n",
       "      <td>0.000014</td>\n",
       "      <td>-0.000007</td>\n",
       "      <td>-0.000012</td>\n",
       "      <td>803.483944</td>\n",
       "      <td>0.000028</td>\n",
       "      <td>-0.000013</td>\n",
       "      <td>-0.000024</td>\n",
       "      <td>0.094843</td>\n",
       "      <td>0.000009</td>\n",
       "      <td>-0.000002</td>\n",
       "      <td>0.000009</td>\n",
       "      <td>0.000463</td>\n",
       "      <td>-0.000104</td>\n",
       "      <td>0.000451</td>\n",
       "      <td>0.020109</td>\n",
       "    </tr>\n",
       "    <tr>\n",
       "      <th>3196</th>\n",
       "      <td>-3.307488</td>\n",
       "      <td>0.000014</td>\n",
       "      <td>-0.000006</td>\n",
       "      <td>-0.000013</td>\n",
       "      <td>803.730014</td>\n",
       "      <td>0.000029</td>\n",
       "      <td>-0.000012</td>\n",
       "      <td>-0.000026</td>\n",
       "      <td>0.094843</td>\n",
       "      <td>0.000009</td>\n",
       "      <td>-0.000002</td>\n",
       "      <td>0.000009</td>\n",
       "      <td>0.000466</td>\n",
       "      <td>-0.000115</td>\n",
       "      <td>0.000451</td>\n",
       "      <td>0.020109</td>\n",
       "    </tr>\n",
       "    <tr>\n",
       "      <th>3197</th>\n",
       "      <td>-3.316872</td>\n",
       "      <td>0.000015</td>\n",
       "      <td>-0.000006</td>\n",
       "      <td>-0.000014</td>\n",
       "      <td>803.982041</td>\n",
       "      <td>0.000030</td>\n",
       "      <td>-0.000011</td>\n",
       "      <td>-0.000027</td>\n",
       "      <td>0.094843</td>\n",
       "      <td>0.000009</td>\n",
       "      <td>-0.000002</td>\n",
       "      <td>0.000009</td>\n",
       "      <td>0.000449</td>\n",
       "      <td>-0.000114</td>\n",
       "      <td>0.000434</td>\n",
       "      <td>0.020109</td>\n",
       "    </tr>\n",
       "    <tr>\n",
       "      <th>3198</th>\n",
       "      <td>-3.326257</td>\n",
       "      <td>0.000015</td>\n",
       "      <td>-0.000005</td>\n",
       "      <td>-0.000014</td>\n",
       "      <td>804.234036</td>\n",
       "      <td>0.000030</td>\n",
       "      <td>-0.000011</td>\n",
       "      <td>-0.000028</td>\n",
       "      <td>0.094843</td>\n",
       "      <td>0.000009</td>\n",
       "      <td>-0.000002</td>\n",
       "      <td>0.000009</td>\n",
       "      <td>0.000446</td>\n",
       "      <td>-0.000118</td>\n",
       "      <td>0.000430</td>\n",
       "      <td>0.020109</td>\n",
       "    </tr>\n",
       "    <tr>\n",
       "      <th>3199</th>\n",
       "      <td>-3.335641</td>\n",
       "      <td>0.000014</td>\n",
       "      <td>-0.000003</td>\n",
       "      <td>-0.000014</td>\n",
       "      <td>804.481465</td>\n",
       "      <td>0.000028</td>\n",
       "      <td>-0.000006</td>\n",
       "      <td>-0.000027</td>\n",
       "      <td>0.094843</td>\n",
       "      <td>0.000009</td>\n",
       "      <td>-0.000002</td>\n",
       "      <td>0.000009</td>\n",
       "      <td>0.000444</td>\n",
       "      <td>-0.000104</td>\n",
       "      <td>0.000432</td>\n",
       "      <td>0.020109</td>\n",
       "    </tr>\n",
       "  </tbody>\n",
       "</table>\n",
       "<p>3200 rows × 16 columns</p>\n",
       "</div>"
      ],
      "text/plain": [
       "      Delay [ps]         R         X         Y    Duration  Rel_Delta_R  \\\n",
       "0      26.685128  0.000022  0.000019 -0.000012    9.456897     0.000044   \n",
       "1      26.675743  0.000050  0.000050 -0.000009    9.712493     0.000100   \n",
       "2      26.666359  0.000065  0.000065 -0.000010    9.958434     0.000130   \n",
       "3      26.656974  0.000070  0.000069 -0.000010   10.202223     0.000139   \n",
       "4      26.647590  0.000070  0.000069 -0.000012   10.448971     0.000140   \n",
       "...          ...       ...       ...       ...         ...          ...   \n",
       "3195   -3.298103  0.000014 -0.000007 -0.000012  803.483944     0.000028   \n",
       "3196   -3.307488  0.000014 -0.000006 -0.000013  803.730014     0.000029   \n",
       "3197   -3.316872  0.000015 -0.000006 -0.000014  803.982041     0.000030   \n",
       "3198   -3.326257  0.000015 -0.000005 -0.000014  804.234036     0.000030   \n",
       "3199   -3.335641  0.000014 -0.000003 -0.000014  804.481465     0.000028   \n",
       "\n",
       "      Rel_Delta_X  Rel_Delta_Y  Reflectivity        R2        X2        Y2  \\\n",
       "0        0.000038    -0.000023      0.094843  0.001562  0.001555  0.000151   \n",
       "1        0.000099    -0.000018      0.094843  0.000245  0.000244  0.000023   \n",
       "2        0.000128    -0.000019      0.094843  0.000025  0.000024  0.000009   \n",
       "3        0.000137    -0.000020      0.094843  0.000014 -0.000012  0.000007   \n",
       "4        0.000138    -0.000023      0.094843  0.000019 -0.000018  0.000007   \n",
       "...           ...          ...           ...       ...       ...       ...   \n",
       "3195    -0.000013    -0.000024      0.094843  0.000009 -0.000002  0.000009   \n",
       "3196    -0.000012    -0.000026      0.094843  0.000009 -0.000002  0.000009   \n",
       "3197    -0.000011    -0.000027      0.094843  0.000009 -0.000002  0.000009   \n",
       "3198    -0.000011    -0.000028      0.094843  0.000009 -0.000002  0.000009   \n",
       "3199    -0.000006    -0.000027      0.094843  0.000009 -0.000002  0.000009   \n",
       "\n",
       "      Rel_Delta_R2  Rel_Delta_X2  Rel_Delta_Y2  Reflectivity2  \n",
       "0         0.077676      0.077314      0.007492       0.020109  \n",
       "1         0.012163      0.012110      0.001130       0.020109  \n",
       "2         0.001265      0.001183      0.000448       0.020109  \n",
       "3         0.000680     -0.000579      0.000357       0.020109  \n",
       "4         0.000936     -0.000876      0.000330       0.020109  \n",
       "...            ...           ...           ...            ...  \n",
       "3195      0.000463     -0.000104      0.000451       0.020109  \n",
       "3196      0.000466     -0.000115      0.000451       0.020109  \n",
       "3197      0.000449     -0.000114      0.000434       0.020109  \n",
       "3198      0.000446     -0.000118      0.000430       0.020109  \n",
       "3199      0.000444     -0.000104      0.000432       0.020109  \n",
       "\n",
       "[3200 rows x 16 columns]"
      ]
     },
     "execution_count": 59,
     "metadata": {},
     "output_type": "execute_result"
    }
   ],
   "source": [
    "plot_fft()"
   ]
  },
  {
   "cell_type": "code",
   "execution_count": 92,
   "id": "cb377fe5",
   "metadata": {},
   "outputs": [
    {
     "data": {
      "text/plain": [
       "{'Delay [ps]': array([26.68512762, 26.67574319, 26.66635877, ..., -3.30748768,\n",
       "        -3.31687211, -3.32625653]),\n",
       " 'Rel_Delta_X': array([4.73824499e-05, 5.55685773e-05, 6.17816337e-05, ...,\n",
       "        4.16195919e-07, 3.84890309e-07, 2.14541270e-07])}"
      ]
     },
     "execution_count": 92,
     "metadata": {},
     "output_type": "execute_result"
    }
   ],
   "source": [
    "T = str(5)\n",
    "filter_phonons\n",
    "plot_PumpProbe(spot3_pol_48mW_pol['eft'][T],Y = Rel_Delta_X)\n",
    "plot_PumpProbe(filter_phonons(spot3_pol_48mW_pol['eft'][T],Q = 1),Y = Rel_Delta_X)\n",
    "\n",
    "\n",
    "# plot_PumpProbe(spot3_pol_48mW_pol['ght'][T])\n",
    "# plot_PumpProbe(spot3_pol_25mW_pol['eft'][T],spot3_pol_25mW_pol['ght'][T],subtract=1)"
   ]
  },
  {
   "cell_type": "code",
   "execution_count": 4,
   "id": "582a94f1",
   "metadata": {},
   "outputs": [
    {
     "name": "stdout",
     "output_type": "stream",
     "text": [
      "all is all\n",
      "all is all\n",
      "all is all\n",
      "all is all\n",
      "all is all\n",
      "all is all\n"
     ]
    }
   ],
   "source": [
    "##laptop\n",
    "\n",
    "\n",
    "# run1 = Load_data(r'C:\\Users\\Alon\\Dropbox\\measurements\\CrGeTe3\\pump probe\\CGT sample3\\Spot2',datatype='separate3')\n",
    "# run2 = Load_data(r'C:\\Users\\Alon\\Dropbox\\measurements\\CrGeTe3\\pump probe\\CGT sample3\\spot2 run2',datatype='separate3',temp_loc=2)\n",
    "# run3 = Load_data(r'C:\\Users\\Alon\\Dropbox\\measurements\\CrGeTe3\\pump probe\\CGT sample3\\spot 2 run3',datatype='separate3',temp_loc=2)\n",
    "# cooldown = Load_data(r'C:\\Users\\Alon\\Dropbox\\measurements\\CrGeTe3\\pump probe\\CGT sample3\\cooldown',datatype='LockinT')\n",
    "# spot3 = Load_data(r'C:\\Users\\Alon\\Dropbox\\measurements\\CrGeTe3\\pump probe\\CGT sample3\\spot3\\temperatures',datatype='separate3',temp_loc=2)\n",
    "spot3_Fluences = Load_data(r'C:\\Users\\Alon\\Dropbox\\measurements\\CrGeTe3\\pump probe\\CGT sample3\\spot3\\Fluences 5K',datatype='all')\n",
    "spot3_19p7 = Load_data(r'C:\\Users\\Alon\\Dropbox\\measurements\\CrGeTe3\\pump probe\\CGT sample3\\spot3\\run 2 19p7mW',datatype='separate3',temp_loc=3)\n",
    "# # spot3_high_res = Load_data(r'C:\\Users\\Alon\\Dropbox\\measurements\\CrGeTe3\\pump probe\\CGT sample3\\spot3\\long high res 5K 19p7mW',datatype='separate3',temp_loc=2)\n",
    "# # # spot3_pol = Load_data(r'C:\\Users\\Alon\\Dropbox\\measurements\\CrGeTe3\\pump probe\\CGT sample3\\spot3\\polarizations temp',datatype='separate2',temp_loc=2)\n",
    "# spot3_pol_run2 = Load_data(r'C:\\Users\\Alon\\Dropbox\\measurements\\CrGeTe3\\pump probe\\CGT sample3\\spot3\\polarization temp run2',datatype='separate',temp_loc=3)\n",
    "# spot3_pol_run2_pol = Load_data(r'C:\\Users\\Alon\\Dropbox\\measurements\\CrGeTe3\\pump probe\\CGT sample3\\spot3\\polarization temp run2',datatype='separate2',temp_loc=3)\n",
    "spot3_pol_25mW_pol = Load_data(r'C:\\Users\\Alon\\Dropbox\\measurements\\CrGeTe3\\pump probe\\CGT sample3\\spot3\\polarization temp run25mW',datatype='separate2',temp_loc=2)\n",
    "# sub19p7mW = subtract_dictionary(spot3_pol_run2_pol)\n",
    "# # # subPP = subtract_dictionary(spot3_pol_run2_pol,Y = 'Rel_Delta_X2')\n",
    "# sub25mW = subtract_dictionary(spot3_pol_25mW_pol)\n",
    "# sub25mWPP = subtract_dictionary(spot3_pol_25mW_pol,Y = 'Rel_Delta_X2')\n",
    "# # # spot3_170K = Load_data(r'C:\\Users\\Alon\\Dropbox\\measurements\\CrGeTe3\\pump probe\\CGT sample3\\spot3\\170K',datatype='all')\n",
    "# spot3_pol_48mW_pol = Load_data(r'C:\\Users\\Alon\\Dropbox\\measurements\\CrGeTe3\\pump probe\\CGT sample3\\spot3\\polarization temp run48mW',datatype='separate2',temp_loc=2)\n",
    "# sub48mW = subtract_dictionary(spot3_pol_48mW_pol)\n",
    "# sub48mWPP = subtract_dictionary(spot3_pol_48mW_pol,Y = 'Rel_Delta_X2')\n",
    "spot3_pol_10mW_pol = Load_data(r'C:\\Users\\Alon\\Dropbox\\measurements\\CrGeTe3\\pump probe\\CGT sample3\\spot3\\polarization temp run10mW',datatype='separate2',temp_loc=2)\n",
    "sub10mW = subtract_dictionary(spot3_pol_10mW_pol)\n",
    "sub10mWPP = subtract_dictionary(spot3_pol_10mW_pol,Y = 'Rel_Delta_X2')\n",
    "\n",
    "\n",
    "# rot_5K = Load_data(r'C:\\Users\\Alon\\Dropbox\\measurements\\CrGeTe3\\pump probe\\CGT sample3\\spot3\\Polarization rotation times temps\\5K',temp_loc=1)\n",
    "# rot_20K = Load_data(r'C:\\Users\\Alon\\Dropbox\\measurements\\CrGeTe3\\pump probe\\CGT sample3\\spot3\\Polarization rotation times temps\\20K',temp_loc=1)\n",
    "# rot_temps = Load_data(r'C:\\Users\\Alon\\Dropbox\\measurements\\CrGeTe3\\pump probe\\CGT sample3\\spot3\\Polarization rotation times temps\\run2 pol scan',datatype='separate2',temp_loc=0)\n",
    "# time_pol_170K = Load_data(r'C:\\Users\\Alon\\Dropbox\\measurements\\CrGeTe3\\pump probe\\CGT sample3\\spot3\\Polarization rotation times temps\\time scan 170K',temp_loc = 0)\n",
    "# time_pol_5K = Load_data(r'C:\\Users\\Alon\\Dropbox\\measurements\\CrGeTe3\\pump probe\\CGT sample3\\spot3\\Polarization rotation times temps\\time scan 5K',temp_loc = 0)"
   ]
  },
  {
   "cell_type": "code",
   "execution_count": 2,
   "id": "1ea5e82b",
   "metadata": {},
   "outputs": [
    {
     "name": "stdout",
     "output_type": "stream",
     "text": [
      "all is all\n",
      "all is all\n",
      "all is all\n",
      "all is all\n",
      "all is all\n",
      "all is all\n"
     ]
    }
   ],
   "source": [
    "##Office computer\n",
    "spot3_Fluences = Load_data(r'C:\\Users\\user\\Dropbox\\measurements\\CrGeTe3\\pump probe\\CGT sample3\\spot3\\Fluences 5K',datatype='all')\n",
    "spot3_pol_25mW_pol = Load_data(r'C:\\Users\\user\\Dropbox\\measurements\\CrGeTe3\\pump probe\\CGT sample3\\spot3\\polarization temp run25mW',datatype='separate2',temp_loc=2)\n",
    "# sub19p7mW = subtract_dictionary(spot3_pol_run2_pol)\n",
    "# # # # subPP = subtract_dictionary(spot3_pol_run2_pol,Y = 'Rel_Delta_X2')\n",
    "sub25mW = subtract_dictionary(spot3_pol_25mW_pol)\n",
    "sub25mWPP = subtract_dictionary(spot3_pol_25mW_pol,Y = 'Rel_Delta_X2')\n",
    "# # # # spot3_170K = Load_data(r'C:\\Users\\Alon\\Dropbox\\measurements\\CrGeTe3\\pump probe\\CGT sample3\\spot3\\170K',datatype='all')\n",
    "spot3_pol_48mW_pol = Load_data(r'C:\\Users\\user\\Dropbox\\measurements\\CrGeTe3\\pump probe\\CGT sample3\\spot3\\polarization temp run48mW',datatype='separate2',temp_loc=2)\n",
    "sub48mW = subtract_dictionary(spot3_pol_48mW_pol)\n",
    "sub48mWPP = subtract_dictionary(spot3_pol_48mW_pol,Y = 'Rel_Delta_X2')\n",
    "spot3_pol_10mW_pol = Load_data(r'C:\\Users\\user\\Dropbox\\measurements\\CrGeTe3\\pump probe\\CGT sample3\\spot3\\polarization temp run10mW',datatype='separate2',temp_loc=2)\n",
    "# sub10mW = subtract_dictionary(spot3_pol_10mW_pol)\n",
    "# sub10mWPP = subtract_dictionary(spot3_pol_10mW_pol,Y = 'Rel_Delta_X2')\n",
    "\n",
    "Fluences_5K = Load_data(r'C:\\Users\\user\\Dropbox\\measurements\\CrGeTe3\\pump probe\\CGT sample3\\spot3 run4\\Fluences 5K',temp_loc=1,datatype = 'separate2')\n",
    "\n",
    "# rot_5K = Load_data(r'C:\\Users\\user\\Dropbox\\measurements\\CrGeTe3\\pump probe\\CGT sample3\\spot3\\Polarization rotation times temps\\5K',temp_loc=1)\n",
    "# rot_20K = Load_data(r'C:\\Users\\user\\Dropbox\\measurements\\CrGeTe3\\pump probe\\CGT sample3\\spot3\\Polarization rotation times temps\\20K',temp_loc=1)\n",
    "# time_pol_170K = Load_data(r'C:\\Users\\user\\Dropbox\\measurements\\CrGeTe3\\pump probe\\CGT sample3\\spot3\\Polarization rotation times temps\\time scan 170K',temp_loc = 0)\n",
    "\n",
    "\n"
   ]
  },
  {
   "cell_type": "code",
   "execution_count": 27,
   "id": "72a65e42",
   "metadata": {},
   "outputs": [],
   "source": [
    "T = []\n",
    "R = []\n",
    "for t in spot3_pol_48mW_pol['lin']:\n",
    "    R.append(spot3_pol_48mW_pol['lin'][t]['Reflectivity'][2])\n",
    "    T.append(int(t))\n"
   ]
  },
  {
   "cell_type": "code",
   "execution_count": 30,
   "id": "5557b417",
   "metadata": {},
   "outputs": [
    {
     "data": {
      "text/plain": [
       "(array([0.00000000e+00, 3.56895783e-02, 7.13791567e-02, ...,\n",
       "        5.69605670e+01, 5.69962566e+01, 5.70319462e+01]),\n",
       " array([8.00269455e-03, 6.16650886e-04, 8.10928502e-04, ...,\n",
       "        1.46732271e-05, 1.48651353e-05, 1.49397892e-05]))"
      ]
     },
     "execution_count": 30,
     "metadata": {},
     "output_type": "execute_result"
    }
   ],
   "source": [
    "plot_fft(spot3_pol_25mW_pol['lin']['5'],Y=Rel_Delta_X2)"
   ]
  },
  {
   "cell_type": "markdown",
   "id": "f7ebd518",
   "metadata": {},
   "source": [
    "## plot_PumpProbe(spot3_Fluences['PumpProbe_Kerr_sample3_spot3_run2_Fluences_5K_3p8mW'])\n",
    "plot_PumpProbe(spot3_Fluences['PumpProbe_Kerr_sample3_spot3_run2_Fluences_5K_4p4mW'])\n",
    "plot_PumpProbe(spot3_Fluences['PumpProbe_Kerr_sample3_spot3_run2_Fluences_5K_7p5mW'])\n",
    "plot_PumpProbe(spot3_Fluences['PumpProbe_Kerr_sample3_spot3_run2_Fluences_5K_11p26mW'])\n",
    "plot_PumpProbe(spot3_Fluences['PumpProbe_Kerr_sample3_spot3_run2_Fluences_5K_13p8mW'])\n",
    "plot_PumpProbe(spot3_Fluences['PumpProbe_Kerr_sample3_spot3_run2_Fluences_5K_19p7mW'])"
   ]
  },
  {
   "cell_type": "code",
   "execution_count": null,
   "id": "b3adb3a3",
   "metadata": {},
   "outputs": [],
   "source": [
    "T = '10'\n",
    "ax,fig = plt.subplots()\n",
    "ax = plt.subplot(2,1,1)\n",
    "plot_PumpProbe(spot3_pol_10mW_pol['lin'][T],Y = Rel_Delta_X2)\n",
    "plot_PumpProbe(spot3_pol_10mW_pol['eft'][T],Y = Rel_Delta_X2)\n",
    "plot_PumpProbe(spot3_pol_10mW_pol['ght'][T],Y = Rel_Delta_X2)\n",
    "plt.xlabel('Delay [ps]',fontsize = 12)\n",
    "plt.ylabel('DeltaR/R',fontsize = 12)\n",
    "plt.ylim(-0.0065,0.001)\n",
    "plt.xlim(-3,25)\n",
    "ax.tick_params(axis='both', which='major', labelsize=12)\n",
    "\n",
    "ax = plt.subplot(2,1,2)\n",
    "plot_PumpProbe(spot3_pol_10mW_pol['lin'][T])\n",
    "plot_PumpProbe(spot3_pol_10mW_pol['eft'][T])\n",
    "plot_PumpProbe(spot3_pol_10mW_pol['ght'][T])\n",
    "plt.xlabel('Delay [ps]',fontsize = 12)\n",
    "plt.ylabel('DeltaR/R',fontsize = 12)\n",
    "plt.xlim(-3,25)\n",
    "ax.tick_params(axis='both', which='major', labelsize=12)\n",
    "\n",
    "plt.legend(['linear','Right','Left'])\n",
    "\n"
   ]
  },
  {
   "cell_type": "code",
   "execution_count": null,
   "id": "faa37736",
   "metadata": {},
   "outputs": [],
   "source": []
  },
  {
   "cell_type": "code",
   "execution_count": 5,
   "id": "d50525e3",
   "metadata": {},
   "outputs": [
    {
     "data": {
      "text/plain": [
       "<matplotlib.legend.Legend at 0x150011bad00>"
      ]
     },
     "execution_count": 5,
     "metadata": {},
     "output_type": "execute_result"
    }
   ],
   "source": [
    "pol = 'lin'\n",
    "ax,fig = plt.subplots()\n",
    "ax = plt.subplot(2,1,1)\n",
    "Temps = ['5','15','25','45','55','75','100','150','170']\n",
    "for T in Temps:\n",
    "    plot_PumpProbe(spot3_pol_10mW_pol[pol][str(T)],Y = Rel_Delta_X2)\n",
    "plt.xlabel('Delay [ps]',fontsize = 12)\n",
    "plt.ylabel('DeltaR/R',fontsize = 12)\n",
    "plt.ylim(-0.0065,0.001)\n",
    "plt.xlim(-3,25)\n",
    "ax.tick_params(axis='both', which='major', labelsize=12)\n",
    "\n",
    "ax = plt.subplot(2,1,2)\n",
    "\n",
    "\n",
    "\n",
    "\n",
    "for T in Temps:\n",
    "    plot_PumpProbe(spot3_pol_10mW_pol[pol][str(T)],Y = Rel_Delta_X)\n",
    "plt.xlabel('Delay [ps]',fontsize = 12)\n",
    "plt.ylabel('Polariztion rotation [a.u]',fontsize = 12)\n",
    "plt.xlim(-3,25)\n",
    "ax.tick_params(axis='both', which='major', labelsize=12)\n",
    "l = map(str, Temps)\n",
    "plt.legend(Temps)\n",
    "\n"
   ]
  },
  {
   "cell_type": "raw",
   "id": "03fb46b6",
   "metadata": {},
   "source": [
    "print(l)"
   ]
  },
  {
   "cell_type": "code",
   "execution_count": 61,
   "id": "0cbe1ebc",
   "metadata": {},
   "outputs": [
    {
     "data": {
      "text/plain": [
       "<matplotlib.legend.Legend at 0x1ab1de43460>"
      ]
     },
     "execution_count": 61,
     "metadata": {},
     "output_type": "execute_result"
    }
   ],
   "source": [
    "pol = 'lin'\n",
    "ax,fig = plt.subplots()\n",
    "ax = plt.subplot(2,1,1)\n",
    "Temps = ['170','180','190','200']\n",
    "for T in Temps:\n",
    "    plot_PumpProbe(spot3_pol_10mW_pol[pol][str(T)],Y = Rel_Delta_X2)\n",
    "plt.xlabel('Delay [ps]',fontsize = 12)\n",
    "plt.ylabel('DeltaR/R',fontsize = 12)\n",
    "plt.ylim(-0.0065,0.001)\n",
    "plt.xlim(-3,25)\n",
    "ax.tick_params(axis='both', which='major', labelsize=12)\n",
    "\n",
    "ax = plt.subplot(2,1,2)\n",
    "\n",
    "\n",
    "\n",
    "\n",
    "for T in Temps:\n",
    "    plot_PumpProbe(spot3_pol_10mW_pol[pol][str(T)],Y = Rel_Delta_X)\n",
    "plt.xlabel('Delay [ps]',fontsize = 12)\n",
    "plt.ylabel('Polariztion rotation [a.u]',fontsize = 12)\n",
    "plt.xlim(-3,25)\n",
    "ax.tick_params(axis='both', which='major', labelsize=12)\n",
    "l = map(str, Temps)\n",
    "plt.legend(Temps)\n"
   ]
  },
  {
   "cell_type": "code",
   "execution_count": null,
   "id": "eb35d4cf",
   "metadata": {},
   "outputs": [],
   "source": []
  },
  {
   "cell_type": "code",
   "execution_count": 146,
   "id": "3334b698",
   "metadata": {},
   "outputs": [
    {
     "data": {
      "text/plain": [
       "<matplotlib.legend.Legend at 0x1ab62173d60>"
      ]
     },
     "execution_count": 146,
     "metadata": {},
     "output_type": "execute_result"
    }
   ],
   "source": [
    "\n",
    "\n",
    "# pol = 'lin'\n",
    "ax,fig = plt.subplots()\n",
    "# ax = plt.subplot(2,1,1)\n",
    "Temps =  ['5','30','40','50','70']\n",
    "# for T in Temps:\n",
    "#     plot_PumpProbe(sub10mWPP[T],Y = Rel_Delta_X2)\n",
    "# plt.xlabel('Delay [ps]',fontsize = 12)\n",
    "# plt.ylabel('DeltaR/R',fontsize = 12)\n",
    "# plt.ylim(-0.00025,0.0002)\n",
    "# plt.xlim(-3,25)\n",
    "# ax.tick_params(axis='both', which='major', labelsize=12)\n",
    "\n",
    "# ax = plt.subplot(2,1,2)\n",
    "\n",
    "\n",
    "\n",
    "\n",
    "for T in Temps:\n",
    "    plot_PumpProbe(sub10mW[T],Y = Rel_Delta_X)\n",
    "plt.xlabel('Delay [ps]',fontsize = 12)\n",
    "plt.ylabel('Polariztion rotation [a.u]',fontsize = 12)\n",
    "plt.xlim(-3,25)\n",
    "# ax.tick_params(axis='both', which='major', labelsize=12)\n",
    "l = map(str, Temps)\n",
    "plt.legend(Temps)"
   ]
  },
  {
   "cell_type": "code",
   "execution_count": 145,
   "id": "055ec861",
   "metadata": {},
   "outputs": [
    {
     "data": {
      "text/plain": [
       "<matplotlib.legend.Legend at 0x1ab5cd23b20>"
      ]
     },
     "execution_count": 145,
     "metadata": {},
     "output_type": "execute_result"
    }
   ],
   "source": [
    "# pol = 'lin'\n",
    "ax,fig = plt.subplots()\n",
    "# ax = plt.subplot(2,1,1)\n",
    "Temps =  ['80','90','100','110','130']\n",
    "# for T in Temps:\n",
    "#     plot_PumpProbe(sub10mWPP[T],Y = Rel_Delta_X2)\n",
    "# plt.xlabel('Delay [ps]',fontsize = 12)\n",
    "# plt.ylabel('DeltaR/R',fontsize = 12)\n",
    "# plt.ylim(-0.00025,0.0002)\n",
    "# plt.xlim(-3,25)\n",
    "# ax.tick_params(axis='both', which='major', labelsize=12)\n",
    "\n",
    "# ax = plt.subplot(2,1,2)\n",
    "\n",
    "\n",
    "\n",
    "\n",
    "for T in Temps:\n",
    "    plot_PumpProbe(sub10mW[T],Y = Rel_Delta_X)\n",
    "plt.xlabel('Delay [ps]',fontsize = 12)\n",
    "plt.ylabel('Polariztion rotation [a.u]',fontsize = 12)\n",
    "plt.xlim(-3,25)\n",
    "# ax.tick_params(axis='both', which='major', labelsize=12)\n",
    "l = map(str, Temps)\n",
    "plt.legend(Temps)"
   ]
  },
  {
   "cell_type": "code",
   "execution_count": 108,
   "id": "a4aa0443",
   "metadata": {},
   "outputs": [
    {
     "data": {
      "text/plain": [
       "<matplotlib.legend.Legend at 0x1ab2d02a640>"
      ]
     },
     "execution_count": 108,
     "metadata": {},
     "output_type": "execute_result"
    }
   ],
   "source": [
    "# pol = 'lin'\n",
    "ax,fig = plt.subplots()\n",
    "# ax = plt.subplot(2,1,1)\n",
    "Temps =  ['90','100','130','150','160','170']\n",
    "# for T in Temps:\n",
    "#     plot_PumpProbe(sub10mWPP[T],Y = Rel_Delta_X2)\n",
    "# plt.xlabel('Delay [ps]',fontsize = 12)\n",
    "# plt.ylabel('DeltaR/R',fontsize = 12)\n",
    "# plt.ylim(-0.00025,0.0002)\n",
    "# plt.xlim(-3,25)\n",
    "# ax.tick_params(axis='both', which='major', labelsize=12)\n",
    "\n",
    "# ax = plt.subplot(2,1,2)\n",
    "\n",
    "\n",
    "\n",
    "\n",
    "for T in Temps:\n",
    "    plot_PumpProbe(sub10mW[T],Y = Rel_Delta_X)\n",
    "plt.xlabel('Delay [ps]',fontsize = 12)\n",
    "plt.ylabel('Polariztion rotation [a.u]',fontsize = 12)\n",
    "plt.xlim(-3,25)\n",
    "# ax.tick_params(axis='both', which='major', labelsize=12)\n",
    "l = map(str, Temps)\n",
    "plt.legend(Temps)"
   ]
  },
  {
   "cell_type": "code",
   "execution_count": 42,
   "id": "b55a6405",
   "metadata": {},
   "outputs": [
    {
     "data": {
      "text/plain": [
       "{'Delay [ps]': array([26.68512762, 26.67574319, 26.66635877, ..., -3.29810326,\n",
       "        -3.30748768, -3.31687211]),\n",
       " 'Rel_Delta_X2': array([-4.86313776e-02, -8.94609612e-03, -1.53001565e-03, ...,\n",
       "        -1.96738402e-06,  3.17403765e-06, -2.70268203e-06])}"
      ]
     },
     "execution_count": 42,
     "metadata": {},
     "output_type": "execute_result"
    }
   ],
   "source": [
    "plt.subplot(211)\n",
    "plot_PumpProbe(spot3_pol_10mW_pol['lin']['5'],Y = 'Rel_Delta_X2')\n",
    "plot_PumpProbe(spot3_pol_25mW_pol['lin']['5'],Y = 'Rel_Delta_X2')\n",
    "plot_PumpProbe(spot3_pol_48mW_pol['lin']['5'],Y = 'Rel_Delta_X2')\n",
    "plt.subplot(212)\n",
    "\n",
    "\n",
    "plot_PumpProbe(sub10mWPP['5'],Y = 'Rel_Delta_X2')\n",
    "plot_PumpProbe(sub25mWPP['5'],Y = 'Rel_Delta_X2')\n",
    "plot_PumpProbe(sub48mWPP['5'],Y = 'Rel_Delta_X2')"
   ]
  },
  {
   "cell_type": "code",
   "execution_count": 139,
   "id": "03690bf6",
   "metadata": {},
   "outputs": [
    {
     "data": {
      "text/plain": [
       "Text(0, 0.5, 'Temperature [K]')"
      ]
     },
     "execution_count": 139,
     "metadata": {},
     "output_type": "execute_result"
    }
   ],
   "source": [
    "(x10mW,y10mW,z10mW,plot10mW) = colorplot2({'lin':sub10mW},slicer=[0,2700],filt_phonons=1,key = 'lin')\n",
    "(x25mW,y25mW,z25mW,plot25mW) = colorplot2({'lin':sub25mW},slicer=[0,2700],filt_phonons=1,key = 'lin')\n",
    "(x48mW,y48mW,z48mW,plot48mW) = colorplot2({'lin':sub48mW},slicer=[0,2700],filt_phonons=1,key = 'lin')\n",
    "plt.xlabel('Delay[ps]')\n",
    "plt.ylabel('Temperature [K]')"
   ]
  },
  {
   "cell_type": "code",
   "execution_count": 144,
   "id": "f76ae15f",
   "metadata": {},
   "outputs": [
    {
     "name": "stderr",
     "output_type": "stream",
     "text": [
      "<ipython-input-144-fb81b74a1116>:1: MatplotlibDeprecationWarning: Adding an axes using the same arguments as a previous axes currently reuses the earlier instance.  In a future version, a new instance will always be created and returned.  Meanwhile, this warning can be suppressed, and the future behavior ensured, by passing a unique label to each axes instance.\n",
      "  plt.subplot(3,1,1)\n",
      "<ipython-input-144-fb81b74a1116>:2: MatplotlibDeprecationWarning: shading='flat' when X and Y have the same dimensions as C is deprecated since 3.3.  Either specify the corners of the quadrilaterals with X and Y, or pass shading='auto', 'nearest' or 'gouraud', or set rcParams['pcolor.shading'].  This will become an error two minor releases later.\n",
      "  plt.pcolormesh(x10mW,y10mW,z10mW,vmax = np.max(np.array(z10mW))*0.5)\n",
      "<ipython-input-144-fb81b74a1116>:6: MatplotlibDeprecationWarning: Adding an axes using the same arguments as a previous axes currently reuses the earlier instance.  In a future version, a new instance will always be created and returned.  Meanwhile, this warning can be suppressed, and the future behavior ensured, by passing a unique label to each axes instance.\n",
      "  plt.subplot(3,1,2)\n",
      "<ipython-input-144-fb81b74a1116>:7: MatplotlibDeprecationWarning: shading='flat' when X and Y have the same dimensions as C is deprecated since 3.3.  Either specify the corners of the quadrilaterals with X and Y, or pass shading='auto', 'nearest' or 'gouraud', or set rcParams['pcolor.shading'].  This will become an error two minor releases later.\n",
      "  plt.pcolormesh(x25mW,y25mW,-z25mW,vmax = np.max(np.array(-z25mW))*0.5)\n",
      "<ipython-input-144-fb81b74a1116>:11: MatplotlibDeprecationWarning: Adding an axes using the same arguments as a previous axes currently reuses the earlier instance.  In a future version, a new instance will always be created and returned.  Meanwhile, this warning can be suppressed, and the future behavior ensured, by passing a unique label to each axes instance.\n",
      "  plt.subplot(3,1,3)\n",
      "<ipython-input-144-fb81b74a1116>:12: MatplotlibDeprecationWarning: shading='flat' when X and Y have the same dimensions as C is deprecated since 3.3.  Either specify the corners of the quadrilaterals with X and Y, or pass shading='auto', 'nearest' or 'gouraud', or set rcParams['pcolor.shading'].  This will become an error two minor releases later.\n",
      "  plt.pcolormesh(x48mW,y48mW,-z48mW,vmax = np.max(np.array(-z48mW))*0.5)\n"
     ]
    },
    {
     "data": {
      "text/plain": [
       "Text(38.097222222222214, 0.5, 'Temperature [K]')"
      ]
     },
     "execution_count": 144,
     "metadata": {},
     "output_type": "execute_result"
    }
   ],
   "source": [
    "plt.subplot(3,1,1)\n",
    "plt.pcolormesh(x10mW,y10mW,z10mW,vmax = np.max(np.array(z10mW))*0.5)\n",
    "plt.xlabel('Delay[ps]')\n",
    "plt.ylabel('Temperature [K]')\n",
    "\n",
    "plt.subplot(3,1,2)\n",
    "plt.pcolormesh(x25mW,y25mW,-z25mW,vmax = np.max(np.array(-z25mW))*0.5)\n",
    "plt.xlabel('Delay[ps]')\n",
    "plt.ylabel('Temperature [K]')\n",
    "\n",
    "plt.subplot(3,1,3)\n",
    "plt.pcolormesh(x48mW,y48mW,-z48mW,vmax = np.max(np.array(-z48mW))*0.5)\n",
    "plt.xlabel('Delay[ps]')\n",
    "plt.ylabel('Temperature [K]')"
   ]
  },
  {
   "cell_type": "code",
   "execution_count": 149,
   "id": "92d1a14b",
   "metadata": {},
   "outputs": [
    {
     "name": "stderr",
     "output_type": "stream",
     "text": [
      "<ipython-input-149-4a1d77a9bf63>:2: MatplotlibDeprecationWarning: shading='flat' when X and Y have the same dimensions as C is deprecated since 3.3.  Either specify the corners of the quadrilaterals with X and Y, or pass shading='auto', 'nearest' or 'gouraud', or set rcParams['pcolor.shading'].  This will become an error two minor releases later.\n",
      "  plt.pcolormesh(x10mW,y10mW,z10mW,vmax = np.max(np.array(z10mW))*0.5)\n"
     ]
    },
    {
     "data": {
      "text/plain": [
       "Text(38.097222222222214, 0.5, 'Temperature [K]')"
      ]
     },
     "execution_count": 149,
     "metadata": {},
     "output_type": "execute_result"
    }
   ],
   "source": [
    "(x10mW,y10mW,z10mW,plot10mW) = colorplot2({'lin':sub10mW},slicer=[0,2700],filt_phonons=0,key = 'lin')\n",
    "plt.pcolormesh(x10mW,y10mW,z10mW,vmax = np.max(np.array(z10mW))*0.5)\n",
    "plt.xlabel('Delay[ps]')\n",
    "plt.ylabel('Temperature [K]')"
   ]
  },
  {
   "cell_type": "code",
   "execution_count": 196,
   "id": "9d6e2162",
   "metadata": {},
   "outputs": [
    {
     "data": {
      "text/plain": [
       "{'Delay [ps]': array([53.37025523, 53.36170632, 53.3531574 , ..., -1.30860963,\n",
       "        -1.31715855, -1.32570747]),\n",
       " 'Rel_Delta_X': array([ 5.30272469e-05,  9.04677232e-05,  1.13731751e-04, ...,\n",
       "        -6.48415532e-06, -5.28287532e-06,  3.72499332e-06])}"
      ]
     },
     "execution_count": 196,
     "metadata": {},
     "output_type": "execute_result"
    }
   ],
   "source": [
    "t = 180\n",
    "# plot_PumpProbe(spot3_pol_run2_pol['lin'][str(t)])\n",
    "plot_PumpProbe(spot3_pol_run2_pol['ght'][str(t)])\n",
    "plot_PumpProbe(spot3_pol_run2_pol['eft'][str(t)])"
   ]
  },
  {
   "cell_type": "code",
   "execution_count": 117,
   "id": "339799b0",
   "metadata": {},
   "outputs": [
    {
     "data": {
      "text/plain": [
       "(array([26.68512762, 26.67574319, 26.66635877, ...,  1.3753393 ,\n",
       "         1.36595488,  1.35657045]),\n",
       " array([  5,   8,  10,  13,  15,  20,  25,  27,  30,  35,  40,  45,  50,\n",
       "         53,  55,  57,  60,  63,  65,  70,  75,  80,  85,  90,  95, 100,\n",
       "        105, 110, 115, 120, 125, 130, 135, 140, 145, 150, 155, 160, 165,\n",
       "        170, 175, 180, 185, 190, 195, 200, 210, 220, 230, 240, 250, 260,\n",
       "        270, 280, 290, 300]),\n",
       " array([[-1.78325704e-05, -2.17313423e-05, -2.48552959e-05, ...,\n",
       "         -3.59867472e-05, -3.57451705e-05, -3.54228441e-05],\n",
       "        [-1.68615051e-05, -1.96867621e-05, -2.20052616e-05, ...,\n",
       "         -3.40028298e-05, -3.39477922e-05, -3.38914002e-05],\n",
       "        [-1.90492479e-05, -2.18601019e-05, -2.41611298e-05, ...,\n",
       "         -3.54897311e-05, -3.58006258e-05, -3.61711207e-05],\n",
       "        ...,\n",
       "        [-1.51827187e-05, -1.08781030e-05, -7.05480394e-06, ...,\n",
       "          2.48867765e-05,  2.45042933e-05,  2.42598694e-05],\n",
       "        [ 1.50861030e-05,  1.66113287e-05,  1.78600021e-05, ...,\n",
       "          4.65494433e-05,  4.48208140e-05,  4.22212869e-05],\n",
       "        [-1.26824016e-06,  2.22259063e-06,  4.76373749e-06, ...,\n",
       "          3.16073192e-05,  3.12457086e-05,  3.05911241e-05]]),\n",
       " <matplotlib.collections.QuadMesh at 0x1ab4839cb50>)"
      ]
     },
     "execution_count": 117,
     "metadata": {},
     "output_type": "execute_result"
    }
   ],
   "source": [
    "colorplot2({'lin':sub48mW},slicer=[0,2700],filt_phonons=1,key = 'lin')\n"
   ]
  },
  {
   "cell_type": "code",
   "execution_count": 18,
   "id": "4dd0d007",
   "metadata": {},
   "outputs": [
    {
     "data": {
      "text/plain": [
       "[<matplotlib.lines.Line2D at 0x225f9884700>]"
      ]
     },
     "execution_count": 18,
     "metadata": {},
     "output_type": "execute_result"
    }
   ],
   "source": [
    "T = []\n",
    "A = []\n",
    "for t in sub10mW:\n",
    "    A.append(sub10mW[t]['Rel_Delta_X'][2540])\n",
    "    T.append(int(t))\n",
    "plt.plot(T,A,'o')"
   ]
  },
  {
   "cell_type": "code",
   "execution_count": 23,
   "id": "78d7d65c",
   "metadata": {},
   "outputs": [
    {
     "data": {
      "text/plain": [
       "{'Delay [ps]': array([26.68512762, 26.67574319, 26.66635877, ..., -3.30748768,\n",
       "        -3.31687211, -3.32625653]),\n",
       " 'Rel_Delta_X': array([-2.66739871e-06,  1.37125586e-05,  2.44398632e-05, ...,\n",
       "         8.08410260e-07, -7.88998465e-07, -1.03511379e-06])}"
      ]
     },
     "execution_count": 23,
     "metadata": {},
     "output_type": "execute_result"
    }
   ],
   "source": [
    "# plot_PumpProbe(sub10mW['5'])\n",
    "# plot_PumpProbe(sub48mW['5'])\n",
    "# plot_PumpProbe(sub25mW['5'])\n",
    "plot_PumpProbe(spot3_pol_10mW_pol['ght']['20'])\n",
    "# plot_PumpProbe(spot3_pol_25mW_pol['ght']['5'])\n"
   ]
  },
  {
   "cell_type": "code",
   "execution_count": 129,
   "id": "675f4356",
   "metadata": {},
   "outputs": [
    {
     "data": {
      "text/plain": [
       "([100,\n",
       "  105,\n",
       "  10,\n",
       "  110,\n",
       "  115,\n",
       "  120,\n",
       "  125,\n",
       "  130,\n",
       "  135,\n",
       "  13,\n",
       "  140,\n",
       "  145,\n",
       "  150,\n",
       "  155,\n",
       "  15,\n",
       "  160,\n",
       "  165,\n",
       "  170,\n",
       "  175,\n",
       "  180,\n",
       "  185,\n",
       "  190,\n",
       "  195,\n",
       "  200,\n",
       "  205,\n",
       "  20,\n",
       "  210,\n",
       "  215,\n",
       "  220,\n",
       "  225,\n",
       "  230,\n",
       "  235,\n",
       "  240,\n",
       "  25,\n",
       "  27,\n",
       "  30,\n",
       "  40,\n",
       "  45,\n",
       "  50,\n",
       "  53,\n",
       "  55,\n",
       "  57,\n",
       "  5,\n",
       "  60,\n",
       "  63,\n",
       "  65,\n",
       "  70,\n",
       "  75,\n",
       "  80,\n",
       "  85,\n",
       "  8,\n",
       "  90,\n",
       "  95],\n",
       " [7.538389715281434e-07,\n",
       "  6.909191626014214e-07,\n",
       "  1.7788373734705574e-07,\n",
       "  8.262826981307121e-07,\n",
       "  7.710487247600048e-07,\n",
       "  7.264323717694724e-07,\n",
       "  7.729529801762722e-07,\n",
       "  7.695827666640687e-07,\n",
       "  7.27605521240381e-07,\n",
       "  2.0596567098820822e-07,\n",
       "  7.584630076047307e-07,\n",
       "  9.546878265930235e-07,\n",
       "  1.060913238760082e-06,\n",
       "  1.0794599453105831e-06,\n",
       "  1.6713012379052967e-07,\n",
       "  1.2145991975644354e-06,\n",
       "  1.0381325840960407e-06,\n",
       "  1.2893443088155107e-06,\n",
       "  1.0166339207891973e-06,\n",
       "  1.0576914322205677e-06,\n",
       "  1.249814241435562e-06,\n",
       "  8.959984811661878e-07,\n",
       "  1.0730655318131378e-06,\n",
       "  9.639910719718116e-07,\n",
       "  8.909803477355295e-07,\n",
       "  2.179286370229718e-07,\n",
       "  1.4712559503434455e-06,\n",
       "  1.61978115310486e-06,\n",
       "  1.2825534206479817e-06,\n",
       "  1.5350352512068528e-06,\n",
       "  1.2462800708555905e-06,\n",
       "  1.3406862667780496e-06,\n",
       "  1.5679035704604379e-06,\n",
       "  2.593543233831859e-07,\n",
       "  2.711500094147415e-07,\n",
       "  2.3848025277597685e-07,\n",
       "  2.545879929460899e-07,\n",
       "  3.6354981279492004e-07,\n",
       "  2.2936858543885865e-07,\n",
       "  1.9925102623912442e-07,\n",
       "  2.4187816964432205e-07,\n",
       "  2.4221100682211275e-07,\n",
       "  2.932369775554143e-07,\n",
       "  3.2399154118727725e-07,\n",
       "  3.062568371437843e-07,\n",
       "  4.392121292645519e-07,\n",
       "  2.2199921292821823e-07,\n",
       "  3.093314102218156e-07,\n",
       "  4.535791923681365e-07,\n",
       "  4.6417935976311906e-07,\n",
       "  2.2937921226799374e-07,\n",
       "  5.286203178361393e-07,\n",
       "  6.182079453902092e-07])"
      ]
     },
     "execution_count": 129,
     "metadata": {},
     "output_type": "execute_result"
    }
   ],
   "source": [
    "plot_fft_T_max(spot3_pol_10mW_pol['lin'],slicer=[0,2700],min_range=4,max_range=4.3)\n",
    "plot_fft_T_max(spot3_pol_10mW_pol['lin'],slicer=[0,2700])\n",
    "plot_fft_T_max(spot3_pol_10mW_pol['lin'],slicer=[0,2700],min_range=10,max_range=11)\n",
    "# plot_fft_T_max(spot3_pol_10mW_pol['lin'],slicer=[0,2700],min_range=2,max_range=3)"
   ]
  },
  {
   "cell_type": "code",
   "execution_count": 354,
   "id": "406f53b1",
   "metadata": {},
   "outputs": [
    {
     "data": {
      "text/plain": [
       "(array([0.00000000e+00, 4.22855411e-02, 8.45710823e-02, ...,\n",
       "        5.69586239e+01, 5.70009095e+01, 5.70431950e+01]),\n",
       " array([2.14857506e-03, 4.76693733e-04, 2.13255561e-04, ...,\n",
       "        2.70031082e-05, 2.71411310e-05, 2.71856381e-05]))"
      ]
     },
     "execution_count": 354,
     "metadata": {},
     "output_type": "execute_result"
    }
   ],
   "source": [
    "plot_fft(spot3_pol_25mW_pol['lin']['105'],Y = 'Rel_Delta_X2',slicer=[0,2700])"
   ]
  },
  {
   "cell_type": "code",
   "execution_count": 421,
   "id": "c6d62d7c",
   "metadata": {},
   "outputs": [
    {
     "data": {
      "text/plain": [
       "{'Delay [ps]': array([26.68512762, 26.67636882, 26.66761003, ..., -1.2992212 ,\n",
       "        -1.30798   , -1.31673879]),\n",
       " 'Rel_Delta_X': array([ 3.85852335e-06,  2.10898818e-06, -4.22690330e-07, ...,\n",
       "        -8.69717176e-06, -2.55312865e-06,  1.08960830e-06])}"
      ]
     },
     "execution_count": 421,
     "metadata": {},
     "output_type": "execute_result"
    }
   ],
   "source": [
    "# plot_PumpProbe(sub48mW['10'])\n",
    "plot_PumpProbe(sub10mW[''])\n",
    "# plot_PumpProbe(sub['120'])\n",
    "# plot_PumpProbe(sub25mW['5'])"
   ]
  },
  {
   "cell_type": "code",
   "execution_count": 134,
   "id": "273494b9",
   "metadata": {},
   "outputs": [
    {
     "data": {
      "text/plain": [
       "(array([0.00000000e+00, 3.56895783e-02, 7.13791567e-02, ...,\n",
       "        5.69605670e+01, 5.69962566e+01, 5.70319462e+01]),\n",
       " array([3.61237808e-05, 7.20381051e-05, 3.43539161e-05, ...,\n",
       "        3.32050499e-08, 2.14171645e-08, 1.47898866e-08]))"
      ]
     },
     "execution_count": 134,
     "metadata": {},
     "output_type": "execute_result"
    }
   ],
   "source": [
    "plot_fft(spot3_pol_10mW_pol['lin']['5'])\n",
    "plot_fft(spot3_pol_25mW_pol['lin']['5'])"
   ]
  },
  {
   "cell_type": "code",
   "execution_count": 377,
   "id": "cd4a6899",
   "metadata": {},
   "outputs": [
    {
     "data": {
      "text/plain": [
       "(array([ 0.        ,  0.71356851,  1.42713701,  2.14070552,  2.85427403,\n",
       "         3.56784253,  4.28141104,  4.99497955,  5.70854805,  6.42211656,\n",
       "         7.13568507,  7.84925357,  8.56282208,  9.27639059,  9.9899591 ,\n",
       "        10.7035276 , 11.41709611, 12.13066462, 12.84423312, 13.55780163,\n",
       "        14.27137014, 14.98493864, 15.69850715, 16.41207566, 17.12564416,\n",
       "        17.83921267, 18.55278118, 19.26634968, 19.97991819, 20.6934867 ,\n",
       "        21.4070552 , 22.12062371, 22.83419222, 23.54776072, 24.26132923,\n",
       "        24.97489774, 25.68846624, 26.40203475, 27.11560326, 27.82917177,\n",
       "        28.54274027, 29.25630878, 29.96987729, 30.68344579, 31.3970143 ,\n",
       "        32.11058281, 32.82415131, 33.53771982, 34.25128833, 34.96485683,\n",
       "        35.67842534, 36.39199385, 37.10556235, 37.81913086, 38.53269937,\n",
       "        39.24626787, 39.95983638, 40.67340489, 41.38697339, 42.1005419 ,\n",
       "        42.81411041, 43.52767891, 44.24124742, 44.95481593, 45.66838444,\n",
       "        46.38195294, 47.09552145, 47.80908996, 48.52265846, 49.23622697,\n",
       "        49.94979548, 50.66336398, 51.37693249, 52.090501  , 52.8040695 ,\n",
       "        53.51763801, 54.23120652, 54.94477502, 55.65834353, 56.37191204]),\n",
       " array([1.09423119e-04, 4.94533079e-05, 2.97941961e-05, 2.42310415e-05,\n",
       "        1.17204337e-05, 9.08685201e-05, 1.05919996e-05, 1.27808528e-05,\n",
       "        5.16417381e-06, 7.04408183e-07, 2.92543840e-06, 1.99806179e-06,\n",
       "        4.95059494e-06, 2.12589449e-06, 2.33082373e-06, 1.72426390e-06,\n",
       "        1.85841440e-06, 1.65965417e-06, 8.67508291e-07, 1.75249194e-06,\n",
       "        1.13956615e-06, 2.55422723e-07, 1.29911473e-06, 5.43967344e-07,\n",
       "        2.70529247e-07, 7.50266841e-07, 8.90273826e-07, 1.39515002e-06,\n",
       "        1.22848054e-06, 1.32612905e-06, 3.43566849e-07, 1.35989487e-06,\n",
       "        5.74155401e-07, 6.25323030e-07, 7.11456408e-07, 8.18678451e-07,\n",
       "        8.15430017e-07, 7.81800968e-07, 8.31625102e-07, 4.08032481e-07,\n",
       "        9.44363944e-07, 6.72937671e-07, 7.81118270e-07, 8.50516030e-07,\n",
       "        8.03443403e-07, 7.47671729e-07, 6.72800996e-07, 6.49462875e-07,\n",
       "        7.87946652e-07, 7.23779339e-07, 9.05694438e-07, 7.14419235e-07,\n",
       "        4.61026813e-07, 7.04661917e-07, 4.61610477e-07, 7.25426998e-07,\n",
       "        4.20538465e-07, 4.89240265e-07, 5.35313779e-07, 5.83624231e-07,\n",
       "        5.67661425e-07, 5.32947503e-07, 5.28855322e-07, 6.08656970e-07,\n",
       "        5.53564970e-07, 8.32505027e-07, 5.68476593e-07, 5.52611614e-07,\n",
       "        4.83729735e-07, 4.68220819e-07, 5.42183332e-07, 5.61959290e-07,\n",
       "        6.98026468e-07, 5.77942605e-07, 5.26154537e-07, 5.59032860e-07,\n",
       "        4.20510196e-07, 5.05942398e-07, 4.13958729e-07, 6.92212458e-07]))"
      ]
     },
     "execution_count": 377,
     "metadata": {},
     "output_type": "execute_result"
    }
   ],
   "source": [
    "plot_fft(spot3_pol_25mW_pol['lin']['8'],slicer=[2800,2960])"
   ]
  },
  {
   "cell_type": "code",
   "execution_count": null,
   "id": "99054211",
   "metadata": {},
   "outputs": [],
   "source": []
  },
  {
   "cell_type": "code",
   "execution_count": null,
   "id": "98c0bdc2",
   "metadata": {},
   "outputs": [],
   "source": []
  },
  {
   "cell_type": "code",
   "execution_count": 42,
   "id": "4098e35d",
   "metadata": {},
   "outputs": [
    {
     "data": {
      "text/plain": [
       "(array([0.00000000e+00, 3.56895783e-02, 7.13791567e-02, ...,\n",
       "        5.69605670e+01, 5.69962566e+01, 5.70319462e+01]),\n",
       " array([1.59703792e-04, 1.17761378e-04, 7.13197763e-05, ...,\n",
       "        4.25074620e-08, 3.52848819e-08, 3.57522491e-08]))"
      ]
     },
     "execution_count": 42,
     "metadata": {},
     "output_type": "execute_result"
    }
   ],
   "source": [
    "plot_fft(spot3_pol_48mW_pol['eft']['150'])\n",
    "plot_fft(spot3_pol_25mW_pol['eft']['150'])"
   ]
  },
  {
   "cell_type": "code",
   "execution_count": 45,
   "id": "28cb5a27",
   "metadata": {},
   "outputs": [
    {
     "data": {
      "text/plain": [
       "(array([0.00000000e+00, 3.56895783e-02, 7.13791567e-02, ...,\n",
       "        5.69605670e+01, 5.69962566e+01, 5.70319462e+01]),\n",
       " array([1.59703792e-04, 1.17761378e-04, 7.13197763e-05, ...,\n",
       "        4.25074620e-08, 3.52848819e-08, 3.57522491e-08]))"
      ]
     },
     "execution_count": 45,
     "metadata": {},
     "output_type": "execute_result"
    }
   ],
   "source": [
    "plot_fft(spot3_pol_48mW_pol['eft']['150'])\n",
    "plot_fft(spot3_pol_25mW_pol['eft']['150'])"
   ]
  },
  {
   "cell_type": "code",
   "execution_count": 41,
   "id": "36449d46",
   "metadata": {
    "tags": []
   },
   "outputs": [
    {
     "ename": "KeyError",
     "evalue": "'lin'",
     "output_type": "error",
     "traceback": [
      "\u001b[1;31m---------------------------------------------------------------------------\u001b[0m",
      "\u001b[1;31mKeyError\u001b[0m                                  Traceback (most recent call last)",
      "\u001b[1;32m<ipython-input-41-bbc8c23ab237>\u001b[0m in \u001b[0;36m<module>\u001b[1;34m\u001b[0m\n\u001b[1;32m----> 1\u001b[1;33m \u001b[0mplot_fft\u001b[0m\u001b[1;33m(\u001b[0m\u001b[0mspot3_pol_48mW_pol\u001b[0m\u001b[1;33m[\u001b[0m\u001b[1;34m'lin'\u001b[0m\u001b[1;33m]\u001b[0m\u001b[1;33m[\u001b[0m\u001b[1;34m'50'\u001b[0m\u001b[1;33m]\u001b[0m\u001b[1;33m,\u001b[0m\u001b[0mslicer\u001b[0m\u001b[1;33m=\u001b[0m\u001b[1;33m[\u001b[0m\u001b[1;36m0\u001b[0m\u001b[1;33m,\u001b[0m\u001b[1;36m2700\u001b[0m\u001b[1;33m]\u001b[0m\u001b[1;33m)\u001b[0m\u001b[1;33m\u001b[0m\u001b[1;33m\u001b[0m\u001b[0m\n\u001b[0m\u001b[0;32m      2\u001b[0m \u001b[0mplot_fft\u001b[0m\u001b[1;33m(\u001b[0m\u001b[0mspot3_pol_25mW_pol\u001b[0m\u001b[1;33m[\u001b[0m\u001b[1;34m'lin'\u001b[0m\u001b[1;33m]\u001b[0m\u001b[1;33m[\u001b[0m\u001b[1;34m'50'\u001b[0m\u001b[1;33m]\u001b[0m\u001b[1;33m,\u001b[0m\u001b[0mslicer\u001b[0m\u001b[1;33m=\u001b[0m\u001b[1;33m[\u001b[0m\u001b[1;36m0\u001b[0m\u001b[1;33m,\u001b[0m\u001b[1;36m2700\u001b[0m\u001b[1;33m]\u001b[0m\u001b[1;33m)\u001b[0m\u001b[1;33m\u001b[0m\u001b[1;33m\u001b[0m\u001b[0m\n\u001b[0;32m      3\u001b[0m \u001b[0mplot_fft\u001b[0m\u001b[1;33m(\u001b[0m\u001b[0mspot3_pol_10mW_pol\u001b[0m\u001b[1;33m[\u001b[0m\u001b[1;34m'lin'\u001b[0m\u001b[1;33m]\u001b[0m\u001b[1;33m[\u001b[0m\u001b[1;34m'50'\u001b[0m\u001b[1;33m]\u001b[0m\u001b[1;33m,\u001b[0m\u001b[0mslicer\u001b[0m\u001b[1;33m=\u001b[0m\u001b[1;33m[\u001b[0m\u001b[1;36m0\u001b[0m\u001b[1;33m,\u001b[0m\u001b[1;36m2700\u001b[0m\u001b[1;33m]\u001b[0m\u001b[1;33m)\u001b[0m\u001b[1;33m\u001b[0m\u001b[1;33m\u001b[0m\u001b[0m\n",
      "\u001b[1;31mKeyError\u001b[0m: 'lin'"
     ]
    }
   ],
   "source": [
    "plot_fft(spot3_pol_48mW_pol['lin']['50'],slicer=[0,2700])\n",
    "plot_fft(spot3_pol_25mW_pol['lin']['50'],slicer=[0,2700])\n",
    "plot_fft(spot3_pol_10mW_pol['lin']['50'],slicer=[0,2700])\n"
   ]
  },
  {
   "cell_type": "code",
   "execution_count": 63,
   "id": "4e1d69bf",
   "metadata": {
    "tags": []
   },
   "outputs": [
    {
     "ename": "ValueError",
     "evalue": "not enough values to unpack (expected 2, got 1)",
     "output_type": "error",
     "traceback": [
      "\u001b[1;31m---------------------------------------------------------------------------\u001b[0m",
      "\u001b[1;31mValueError\u001b[0m                                Traceback (most recent call last)",
      "\u001b[1;32m<ipython-input-63-219443c07fd8>\u001b[0m in \u001b[0;36m<module>\u001b[1;34m\u001b[0m\n\u001b[1;32m----> 1\u001b[1;33m \u001b[0mcolorplot2\u001b[0m\u001b[1;33m(\u001b[0m\u001b[1;33m{\u001b[0m\u001b[1;34m'lin'\u001b[0m\u001b[1;33m:\u001b[0m\u001b[0msub48mW\u001b[0m\u001b[1;33m}\u001b[0m\u001b[1;33m)\u001b[0m\u001b[1;33m\u001b[0m\u001b[1;33m\u001b[0m\u001b[0m\n\u001b[0m",
      "\u001b[1;32m<ipython-input-2-be7a370817df>\u001b[0m in \u001b[0;36mcolorplot2\u001b[1;34m(data, Y, X, key, to_zero, subtract, slicer, filter, filt_phonons)\u001b[0m\n\u001b[0;32m    301\u001b[0m \u001b[1;33m\u001b[0m\u001b[0m\n\u001b[0;32m    302\u001b[0m     \u001b[1;31m#plt.pcolormesh(x,T[ind],Z[ind],norm=colors.LogNorm(vmin=Z[ind].min(), vmax=Z[ind].max()/100),cmap='PuBu_r', shading='auto')\u001b[0m\u001b[1;33m\u001b[0m\u001b[1;33m\u001b[0m\u001b[1;33m\u001b[0m\u001b[0m\n\u001b[1;32m--> 303\u001b[1;33m     \u001b[0mmap\u001b[0m \u001b[1;33m=\u001b[0m \u001b[0mplt\u001b[0m\u001b[1;33m.\u001b[0m\u001b[0mpcolormesh\u001b[0m\u001b[1;33m(\u001b[0m\u001b[0mx\u001b[0m\u001b[1;33m,\u001b[0m\u001b[0mT\u001b[0m\u001b[1;33m[\u001b[0m\u001b[0mind\u001b[0m\u001b[1;33m]\u001b[0m\u001b[1;33m,\u001b[0m\u001b[0mZ\u001b[0m\u001b[1;33m[\u001b[0m\u001b[0mind\u001b[0m\u001b[1;33m]\u001b[0m\u001b[1;33m,\u001b[0m \u001b[0mshading\u001b[0m\u001b[1;33m=\u001b[0m\u001b[1;34m'auto'\u001b[0m\u001b[1;33m)\u001b[0m\u001b[1;33m\u001b[0m\u001b[1;33m\u001b[0m\u001b[0m\n\u001b[0m\u001b[0;32m    304\u001b[0m \u001b[1;31m#     map = plt.pcolormesh(x,T[ind],Z[ind])\u001b[0m\u001b[1;33m\u001b[0m\u001b[1;33m\u001b[0m\u001b[1;33m\u001b[0m\u001b[0m\n\u001b[0;32m    305\u001b[0m \u001b[1;33m\u001b[0m\u001b[0m\n",
      "\u001b[1;32m~\\anaconda3\\lib\\site-packages\\matplotlib\\pyplot.py\u001b[0m in \u001b[0;36mpcolormesh\u001b[1;34m(alpha, norm, cmap, vmin, vmax, shading, antialiased, data, *args, **kwargs)\u001b[0m\n\u001b[0;32m   2720\u001b[0m         \u001b[0mvmax\u001b[0m\u001b[1;33m=\u001b[0m\u001b[1;32mNone\u001b[0m\u001b[1;33m,\u001b[0m \u001b[0mshading\u001b[0m\u001b[1;33m=\u001b[0m\u001b[1;34m'flat'\u001b[0m\u001b[1;33m,\u001b[0m \u001b[0mantialiased\u001b[0m\u001b[1;33m=\u001b[0m\u001b[1;32mFalse\u001b[0m\u001b[1;33m,\u001b[0m \u001b[0mdata\u001b[0m\u001b[1;33m=\u001b[0m\u001b[1;32mNone\u001b[0m\u001b[1;33m,\u001b[0m\u001b[1;33m\u001b[0m\u001b[1;33m\u001b[0m\u001b[0m\n\u001b[0;32m   2721\u001b[0m         **kwargs):\n\u001b[1;32m-> 2722\u001b[1;33m     __ret = gca().pcolormesh(\n\u001b[0m\u001b[0;32m   2723\u001b[0m         \u001b[1;33m*\u001b[0m\u001b[0margs\u001b[0m\u001b[1;33m,\u001b[0m \u001b[0malpha\u001b[0m\u001b[1;33m=\u001b[0m\u001b[0malpha\u001b[0m\u001b[1;33m,\u001b[0m \u001b[0mnorm\u001b[0m\u001b[1;33m=\u001b[0m\u001b[0mnorm\u001b[0m\u001b[1;33m,\u001b[0m \u001b[0mcmap\u001b[0m\u001b[1;33m=\u001b[0m\u001b[0mcmap\u001b[0m\u001b[1;33m,\u001b[0m \u001b[0mvmin\u001b[0m\u001b[1;33m=\u001b[0m\u001b[0mvmin\u001b[0m\u001b[1;33m,\u001b[0m\u001b[1;33m\u001b[0m\u001b[1;33m\u001b[0m\u001b[0m\n\u001b[0;32m   2724\u001b[0m         \u001b[0mvmax\u001b[0m\u001b[1;33m=\u001b[0m\u001b[0mvmax\u001b[0m\u001b[1;33m,\u001b[0m \u001b[0mshading\u001b[0m\u001b[1;33m=\u001b[0m\u001b[0mshading\u001b[0m\u001b[1;33m,\u001b[0m \u001b[0mantialiased\u001b[0m\u001b[1;33m=\u001b[0m\u001b[0mantialiased\u001b[0m\u001b[1;33m,\u001b[0m\u001b[1;33m\u001b[0m\u001b[1;33m\u001b[0m\u001b[0m\n",
      "\u001b[1;32m~\\anaconda3\\lib\\site-packages\\matplotlib\\__init__.py\u001b[0m in \u001b[0;36minner\u001b[1;34m(ax, data, *args, **kwargs)\u001b[0m\n\u001b[0;32m   1563\u001b[0m     \u001b[1;32mdef\u001b[0m \u001b[0minner\u001b[0m\u001b[1;33m(\u001b[0m\u001b[0max\u001b[0m\u001b[1;33m,\u001b[0m \u001b[1;33m*\u001b[0m\u001b[0margs\u001b[0m\u001b[1;33m,\u001b[0m \u001b[0mdata\u001b[0m\u001b[1;33m=\u001b[0m\u001b[1;32mNone\u001b[0m\u001b[1;33m,\u001b[0m \u001b[1;33m**\u001b[0m\u001b[0mkwargs\u001b[0m\u001b[1;33m)\u001b[0m\u001b[1;33m:\u001b[0m\u001b[1;33m\u001b[0m\u001b[1;33m\u001b[0m\u001b[0m\n\u001b[0;32m   1564\u001b[0m         \u001b[1;32mif\u001b[0m \u001b[0mdata\u001b[0m \u001b[1;32mis\u001b[0m \u001b[1;32mNone\u001b[0m\u001b[1;33m:\u001b[0m\u001b[1;33m\u001b[0m\u001b[1;33m\u001b[0m\u001b[0m\n\u001b[1;32m-> 1565\u001b[1;33m             \u001b[1;32mreturn\u001b[0m \u001b[0mfunc\u001b[0m\u001b[1;33m(\u001b[0m\u001b[0max\u001b[0m\u001b[1;33m,\u001b[0m \u001b[1;33m*\u001b[0m\u001b[0mmap\u001b[0m\u001b[1;33m(\u001b[0m\u001b[0msanitize_sequence\u001b[0m\u001b[1;33m,\u001b[0m \u001b[0margs\u001b[0m\u001b[1;33m)\u001b[0m\u001b[1;33m,\u001b[0m \u001b[1;33m**\u001b[0m\u001b[0mkwargs\u001b[0m\u001b[1;33m)\u001b[0m\u001b[1;33m\u001b[0m\u001b[1;33m\u001b[0m\u001b[0m\n\u001b[0m\u001b[0;32m   1566\u001b[0m \u001b[1;33m\u001b[0m\u001b[0m\n\u001b[0;32m   1567\u001b[0m         \u001b[0mbound\u001b[0m \u001b[1;33m=\u001b[0m \u001b[0mnew_sig\u001b[0m\u001b[1;33m.\u001b[0m\u001b[0mbind\u001b[0m\u001b[1;33m(\u001b[0m\u001b[0max\u001b[0m\u001b[1;33m,\u001b[0m \u001b[1;33m*\u001b[0m\u001b[0margs\u001b[0m\u001b[1;33m,\u001b[0m \u001b[1;33m**\u001b[0m\u001b[0mkwargs\u001b[0m\u001b[1;33m)\u001b[0m\u001b[1;33m\u001b[0m\u001b[1;33m\u001b[0m\u001b[0m\n",
      "\u001b[1;32m~\\anaconda3\\lib\\site-packages\\matplotlib\\axes\\_axes.py\u001b[0m in \u001b[0;36mpcolormesh\u001b[1;34m(self, alpha, norm, cmap, vmin, vmax, shading, antialiased, *args, **kwargs)\u001b[0m\n\u001b[0;32m   6102\u001b[0m         \u001b[0mallmatch\u001b[0m \u001b[1;33m=\u001b[0m \u001b[1;33m(\u001b[0m\u001b[0mshading\u001b[0m \u001b[1;33m==\u001b[0m \u001b[1;34m'gouraud'\u001b[0m\u001b[1;33m)\u001b[0m\u001b[1;33m\u001b[0m\u001b[1;33m\u001b[0m\u001b[0m\n\u001b[0;32m   6103\u001b[0m \u001b[1;33m\u001b[0m\u001b[0m\n\u001b[1;32m-> 6104\u001b[1;33m         \u001b[0mX\u001b[0m\u001b[1;33m,\u001b[0m \u001b[0mY\u001b[0m\u001b[1;33m,\u001b[0m \u001b[0mC\u001b[0m \u001b[1;33m=\u001b[0m \u001b[0mself\u001b[0m\u001b[1;33m.\u001b[0m\u001b[0m_pcolorargs\u001b[0m\u001b[1;33m(\u001b[0m\u001b[1;34m'pcolormesh'\u001b[0m\u001b[1;33m,\u001b[0m \u001b[1;33m*\u001b[0m\u001b[0margs\u001b[0m\u001b[1;33m,\u001b[0m \u001b[0mallmatch\u001b[0m\u001b[1;33m=\u001b[0m\u001b[0mallmatch\u001b[0m\u001b[1;33m)\u001b[0m\u001b[1;33m\u001b[0m\u001b[1;33m\u001b[0m\u001b[0m\n\u001b[0m\u001b[0;32m   6105\u001b[0m         \u001b[0mNy\u001b[0m\u001b[1;33m,\u001b[0m \u001b[0mNx\u001b[0m \u001b[1;33m=\u001b[0m \u001b[0mX\u001b[0m\u001b[1;33m.\u001b[0m\u001b[0mshape\u001b[0m\u001b[1;33m\u001b[0m\u001b[1;33m\u001b[0m\u001b[0m\n\u001b[0;32m   6106\u001b[0m         \u001b[0mX\u001b[0m \u001b[1;33m=\u001b[0m \u001b[0mX\u001b[0m\u001b[1;33m.\u001b[0m\u001b[0mravel\u001b[0m\u001b[1;33m(\u001b[0m\u001b[1;33m)\u001b[0m\u001b[1;33m\u001b[0m\u001b[1;33m\u001b[0m\u001b[0m\n",
      "\u001b[1;32m~\\anaconda3\\lib\\site-packages\\matplotlib\\axes\\_axes.py\u001b[0m in \u001b[0;36m_pcolorargs\u001b[1;34m(funcname, allmatch, *args)\u001b[0m\n\u001b[0;32m   5678\u001b[0m                 \u001b[1;32mif\u001b[0m \u001b[0misinstance\u001b[0m\u001b[1;33m(\u001b[0m\u001b[0mY\u001b[0m\u001b[1;33m,\u001b[0m \u001b[0mnp\u001b[0m\u001b[1;33m.\u001b[0m\u001b[0mma\u001b[0m\u001b[1;33m.\u001b[0m\u001b[0mcore\u001b[0m\u001b[1;33m.\u001b[0m\u001b[0mMaskedArray\u001b[0m\u001b[1;33m)\u001b[0m\u001b[1;33m:\u001b[0m\u001b[1;33m\u001b[0m\u001b[1;33m\u001b[0m\u001b[0m\n\u001b[0;32m   5679\u001b[0m                     \u001b[0mY\u001b[0m \u001b[1;33m=\u001b[0m \u001b[0mY\u001b[0m\u001b[1;33m.\u001b[0m\u001b[0mdata\u001b[0m\u001b[1;33m\u001b[0m\u001b[1;33m\u001b[0m\u001b[0m\n\u001b[1;32m-> 5680\u001b[1;33m             \u001b[0mnrows\u001b[0m\u001b[1;33m,\u001b[0m \u001b[0mncols\u001b[0m \u001b[1;33m=\u001b[0m \u001b[0mC\u001b[0m\u001b[1;33m.\u001b[0m\u001b[0mshape\u001b[0m\u001b[1;33m\u001b[0m\u001b[1;33m\u001b[0m\u001b[0m\n\u001b[0m\u001b[0;32m   5681\u001b[0m         \u001b[1;32melse\u001b[0m\u001b[1;33m:\u001b[0m\u001b[1;33m\u001b[0m\u001b[1;33m\u001b[0m\u001b[0m\n\u001b[0;32m   5682\u001b[0m             raise TypeError(\n",
      "\u001b[1;31mValueError\u001b[0m: not enough values to unpack (expected 2, got 1)"
     ]
    }
   ],
   "source": [
    "colorplot2({'lin':sub48mW})"
   ]
  },
  {
   "cell_type": "code",
   "execution_count": 266,
   "id": "95ccff50",
   "metadata": {},
   "outputs": [
    {
     "data": {
      "text/plain": [
       "([100,\n",
       "  105,\n",
       "  10,\n",
       "  110,\n",
       "  115,\n",
       "  120,\n",
       "  125,\n",
       "  130,\n",
       "  135,\n",
       "  13,\n",
       "  140,\n",
       "  145,\n",
       "  150,\n",
       "  155,\n",
       "  15,\n",
       "  160,\n",
       "  165,\n",
       "  170,\n",
       "  175,\n",
       "  180,\n",
       "  185,\n",
       "  190,\n",
       "  195,\n",
       "  200,\n",
       "  205,\n",
       "  20,\n",
       "  210,\n",
       "  215,\n",
       "  220,\n",
       "  225,\n",
       "  230,\n",
       "  235,\n",
       "  240,\n",
       "  250,\n",
       "  25,\n",
       "  260,\n",
       "  270,\n",
       "  27,\n",
       "  280,\n",
       "  290,\n",
       "  300,\n",
       "  30,\n",
       "  35,\n",
       "  40,\n",
       "  45,\n",
       "  50,\n",
       "  53,\n",
       "  55,\n",
       "  57,\n",
       "  5,\n",
       "  60,\n",
       "  63,\n",
       "  65,\n",
       "  70,\n",
       "  75,\n",
       "  80,\n",
       "  85,\n",
       "  8,\n",
       "  90,\n",
       "  95],\n",
       " [1.2664445201858242e-06,\n",
       "  1.3178475683523954e-06,\n",
       "  2.4293067157361327e-06,\n",
       "  1.5546450630003513e-06,\n",
       "  1.533523221717404e-06,\n",
       "  1.9606459675065582e-06,\n",
       "  1.5008237463518525e-06,\n",
       "  1.4931335374738323e-06,\n",
       "  1.4543896104735291e-06,\n",
       "  2.4725969180724813e-06,\n",
       "  1.4586271345206841e-06,\n",
       "  1.3899202216522952e-06,\n",
       "  1.0802370003389642e-06,\n",
       "  1.7890925496597272e-06,\n",
       "  2.5333909845160418e-06,\n",
       "  1.5176713779199002e-06,\n",
       "  1.5848413393701475e-06,\n",
       "  1.7001233462763574e-06,\n",
       "  1.6107069861845247e-06,\n",
       "  1.5256650678462082e-06,\n",
       "  1.2317442896914445e-06,\n",
       "  7.039468388039823e-07,\n",
       "  9.050691629927342e-07,\n",
       "  7.587762128914312e-07,\n",
       "  9.34565877647292e-07,\n",
       "  2.516514322589009e-06,\n",
       "  3.6549732188640035e-07,\n",
       "  5.284516341413633e-07,\n",
       "  6.014309431185547e-07,\n",
       "  5.881415694627724e-07,\n",
       "  8.203109751436481e-07,\n",
       "  9.94039294617967e-07,\n",
       "  1.0847877871168372e-06,\n",
       "  8.285475908326207e-07,\n",
       "  2.1436283166704756e-06,\n",
       "  6.339139686744931e-07,\n",
       "  1.0225088123131506e-06,\n",
       "  1.9844808955004208e-06,\n",
       "  6.901653914307294e-07,\n",
       "  9.242923989974067e-07,\n",
       "  5.920923965899116e-07,\n",
       "  2.015418142974544e-06,\n",
       "  1.92337431740852e-06,\n",
       "  1.696418273111611e-06,\n",
       "  1.363731851074368e-06,\n",
       "  9.430774367746781e-07,\n",
       "  8.695810866795813e-07,\n",
       "  6.158851602853014e-07,\n",
       "  5.327002744307583e-07,\n",
       "  2.75352780430804e-06,\n",
       "  4.204466620192051e-07,\n",
       "  5.593892683251522e-07,\n",
       "  4.846105300042123e-07,\n",
       "  4.3507295968573064e-07,\n",
       "  4.223701031026888e-07,\n",
       "  5.637202074560473e-07,\n",
       "  5.891413254765945e-07,\n",
       "  2.451550335841185e-06,\n",
       "  1.0764894731611476e-06,\n",
       "  1.0835245885808509e-06])"
      ]
     },
     "execution_count": 266,
     "metadata": {},
     "output_type": "execute_result"
    }
   ],
   "source": [
    "plot_fft_T_max(spot3_pol_10mW_pol['lin'],Y = 'Rel_Delta_X',slicer=[0,2700],min_range=3.35,max_range=3.45)\n",
    "plot_fft_T_max(sub10mW,Y = 'Rel_Delta_X',slicer=[0,2700],min_range=3.35,max_range=3.45)"
   ]
  },
  {
   "cell_type": "code",
   "execution_count": 899,
   "id": "9cb2dca3",
   "metadata": {},
   "outputs": [],
   "source": []
  },
  {
   "cell_type": "code",
   "execution_count": null,
   "id": "0ac797d9",
   "metadata": {},
   "outputs": [],
   "source": []
  },
  {
   "cell_type": "code",
   "execution_count": null,
   "id": "8729c507",
   "metadata": {},
   "outputs": [],
   "source": []
  },
  {
   "cell_type": "code",
   "execution_count": null,
   "id": "d60b4dea",
   "metadata": {},
   "outputs": [],
   "source": []
  },
  {
   "cell_type": "code",
   "execution_count": 314,
   "id": "d0e57ea5",
   "metadata": {},
   "outputs": [
    {
     "data": {
      "text/plain": [
       "8084.7"
      ]
     },
     "execution_count": 314,
     "metadata": {},
     "output_type": "execute_result"
    }
   ],
   "source": [
    "(2900+450+220+140+400+1500+600+700)*1.17"
   ]
  },
  {
   "cell_type": "code",
   "execution_count": null,
   "id": "fa72ffd9",
   "metadata": {},
   "outputs": [],
   "source": []
  },
  {
   "cell_type": "code",
   "execution_count": null,
   "id": "6c0ba100",
   "metadata": {},
   "outputs": [],
   "source": [
    "plot_fft(spot)"
   ]
  },
  {
   "cell_type": "code",
   "execution_count": null,
   "id": "29ecee6f",
   "metadata": {},
   "outputs": [],
   "source": []
  },
  {
   "cell_type": "code",
   "execution_count": null,
   "id": "87dcbb39",
   "metadata": {},
   "outputs": [],
   "source": []
  },
  {
   "cell_type": "code",
   "execution_count": null,
   "id": "4d6c1fac",
   "metadata": {},
   "outputs": [],
   "source": []
  },
  {
   "cell_type": "code",
   "execution_count": null,
   "id": "4db4f5be",
   "metadata": {},
   "outputs": [],
   "source": []
  },
  {
   "cell_type": "code",
   "execution_count": null,
   "id": "5472185e",
   "metadata": {},
   "outputs": [],
   "source": []
  },
  {
   "cell_type": "code",
   "execution_count": null,
   "id": "249a43af",
   "metadata": {},
   "outputs": [],
   "source": []
  },
  {
   "cell_type": "code",
   "execution_count": null,
   "id": "3bcdf77a",
   "metadata": {},
   "outputs": [],
   "source": []
  },
  {
   "cell_type": "code",
   "execution_count": null,
   "id": "f0504aef",
   "metadata": {},
   "outputs": [],
   "source": []
  },
  {
   "cell_type": "code",
   "execution_count": null,
   "id": "9886d4cb",
   "metadata": {},
   "outputs": [],
   "source": []
  },
  {
   "cell_type": "code",
   "execution_count": null,
   "id": "7b66e866",
   "metadata": {},
   "outputs": [],
   "source": []
  },
  {
   "cell_type": "code",
   "execution_count": null,
   "id": "ecc463bf",
   "metadata": {},
   "outputs": [],
   "source": []
  },
  {
   "cell_type": "code",
   "execution_count": null,
   "id": "4327a3fe",
   "metadata": {},
   "outputs": [],
   "source": []
  },
  {
   "cell_type": "code",
   "execution_count": 231,
   "id": "b8515625",
   "metadata": {},
   "outputs": [],
   "source": [
    "i = 1"
   ]
  },
  {
   "cell_type": "code",
   "execution_count": 233,
   "id": "6e88857e",
   "metadata": {},
   "outputs": [
    {
     "name": "stdout",
     "output_type": "stream",
     "text": [
      "1\n"
     ]
    }
   ],
   "source": [
    "print(f'{i}')"
   ]
  },
  {
   "cell_type": "code",
   "execution_count": null,
   "id": "181dde88",
   "metadata": {},
   "outputs": [],
   "source": []
  },
  {
   "cell_type": "code",
   "execution_count": null,
   "id": "9045d91a",
   "metadata": {},
   "outputs": [],
   "source": []
  },
  {
   "cell_type": "code",
   "execution_count": 49,
   "id": "c4b13527",
   "metadata": {},
   "outputs": [],
   "source": [
    "time = 1\n",
    "temp = 5\n",
    "name = f'temp_is_{temp}K_time_is_{time}ps'"
   ]
  },
  {
   "cell_type": "code",
   "execution_count": 50,
   "id": "13d943f2",
   "metadata": {},
   "outputs": [
    {
     "name": "stdout",
     "output_type": "stream",
     "text": [
      "temp_is_5K_time_is_1ps\n"
     ]
    }
   ],
   "source": [
    "print(name)"
   ]
  },
  {
   "cell_type": "code",
   "execution_count": null,
   "id": "b3546bc7",
   "metadata": {},
   "outputs": [],
   "source": []
  },
  {
   "cell_type": "code",
   "execution_count": 52,
   "id": "21616a97",
   "metadata": {},
   "outputs": [
    {
     "name": "stdout",
     "output_type": "stream",
     "text": [
      "[0.045      0.29421053 0.54342105 0.79263158 1.04184211 1.29105263\n",
      " 1.54026316 1.78947368 2.03868421 2.28789474 2.53710526 2.78631579\n",
      " 3.03552632 3.28473684 3.53394737 3.78315789 4.03236842 4.28157895\n",
      " 4.53078947 4.78      ]\n"
     ]
    }
   ],
   "source": [
    "t_zero = 0.045\n",
    "dip = 2.39\n",
    "\n",
    "num_loc_times = 20\n",
    "times = np.linspace(t_zero,dip*2,num_loc_times)\n",
    "print(times)"
   ]
  },
  {
   "cell_type": "code",
   "execution_count": 53,
   "id": "c59eac7a",
   "metadata": {},
   "outputs": [
    {
     "data": {
      "text/plain": [
       "array([  5,   8,  10,  13,  15,  20,  25,  27,  30,  35,  40,  45,  50,\n",
       "        53,  55,  57,  60,  63,  65,  70,  75,  80,  85,  90,  95, 100,\n",
       "       105, 110, 115, 120, 125, 130, 135, 140, 145, 150, 155, 160, 165,\n",
       "       170, 175, 180, 185, 190])"
      ]
     },
     "execution_count": 53,
     "metadata": {},
     "output_type": "execute_result"
    }
   ],
   "source": [
    "a[1]"
   ]
  },
  {
   "cell_type": "code",
   "execution_count": 61,
   "id": "0086cff4",
   "metadata": {},
   "outputs": [
    {
     "data": {
      "text/plain": [
       "<matplotlib.collections.QuadMesh at 0x176656d8130>"
      ]
     },
     "execution_count": 61,
     "metadata": {},
     "output_type": "execute_result"
    }
   ],
   "source": [
    "plt.pcolormesh(a[0],a[1],a[2],vmin = np.min(np.array(a[2]))*0.4)"
   ]
  },
  {
   "cell_type": "code",
   "execution_count": null,
   "id": "ee29fa13",
   "metadata": {},
   "outputs": [],
   "source": []
  },
  {
   "cell_type": "code",
   "execution_count": 66,
   "id": "dee278bf",
   "metadata": {},
   "outputs": [
    {
     "data": {
      "text/plain": [
       "{'Delay [ps]': array([26.68512762, 26.67636882, 26.66761003, ..., -1.30798   ,\n",
       "        -1.31673879, -1.32549759]),\n",
       " 'Rel_Delta_X': array([ 2.01035655e-05,  2.96740532e-05,  3.77531483e-05, ...,\n",
       "         4.56924638e-06,  1.93266329e-07, -1.35817462e-06])}"
      ]
     },
     "execution_count": 66,
     "metadata": {},
     "output_type": "execute_result"
    }
   ],
   "source": [
    "plot_PumpProbe(spot3_pol_48mW_pol['lin'][0'])\n",
    "plot_PumpProbe(spot3_pol_25mW_pol['lin']['170'])"
   ]
  },
  {
   "cell_type": "code",
   "execution_count": null,
   "id": "d642f210",
   "metadata": {},
   "outputs": [],
   "source": []
  }
 ],
 "metadata": {
  "kernelspec": {
   "display_name": "Python 3 (ipykernel)",
   "language": "python",
   "name": "python3"
  },
  "language_info": {
   "codemirror_mode": {
    "name": "ipython",
    "version": 3
   },
   "file_extension": ".py",
   "mimetype": "text/x-python",
   "name": "python",
   "nbconvert_exporter": "python",
   "pygments_lexer": "ipython3",
   "version": "3.9.12"
  }
 },
 "nbformat": 4,
 "nbformat_minor": 5
}
