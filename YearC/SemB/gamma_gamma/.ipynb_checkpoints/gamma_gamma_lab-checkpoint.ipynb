{
 "cells": [
  {
   "cell_type": "code",
   "execution_count": 12,
   "id": "ac4a588c-ac7c-428f-8e53-adb21428bf6f",
   "metadata": {
    "tags": []
   },
   "outputs": [],
   "source": [
    "import numpy as np\n",
    "from matplotlib import pyplot as plt\n",
    "%matplotlib qt\n",
    "import pandas as pd\n",
    "from scipy.constants import pi\n",
    "from scipy.optimize import curve_fit\n",
    "plt.rcParams['font.size'] = 20"
   ]
  },
  {
   "cell_type": "code",
   "execution_count": 13,
   "id": "5d5fdcb1-7769-43bf-a326-545b835ae020",
   "metadata": {
    "tags": []
   },
   "outputs": [
    {
     "name": "stdout",
     "output_type": "stream",
     "text": [
      "    thete  coincident  time      rate  error coin  error rate       rel  \\\n",
      "0     -90         500   192  2.604167   22.360680    0.116462  4.472136   \n",
      "1     -80         428   181  2.364641   20.688161    0.114299  4.833682   \n",
      "2     -70         422   160  2.637500   20.542639    0.128391  4.867924   \n",
      "3     -60         442   170  2.600000   21.023796    0.123669  4.756515   \n",
      "4     -50         418   176  2.375000   20.445048    0.116165  4.891160   \n",
      "5     -40         426   159  2.679245   20.639767    0.129810  4.845016   \n",
      "6     -35         422   182  2.318681   20.542639    0.112872  4.867924   \n",
      "7     -30         482   162  2.975309   21.954498    0.135522  4.554875   \n",
      "8     -25         484   168  2.880952   22.000000    0.130952  4.545455   \n",
      "9     -20         486   171  2.842105   22.045408    0.128921  4.536092   \n",
      "10    -15         472   147  3.210884   21.725561    0.147793  4.602873   \n",
      "11    -10         506   171  2.959064   22.494444    0.131546  4.445542   \n",
      "12     -5         466   176  2.647727   21.587033    0.122654  4.632411   \n",
      "13      0         504   201  2.507463   22.449944    0.111691  4.454354   \n",
      "14      5         508   196  2.591837   22.538855    0.114994  4.436783   \n",
      "15     10         428   150  2.853333   20.688161    0.137921  4.833682   \n",
      "16     15         462   172  2.686047   21.494185    0.124966  4.652421   \n",
      "17     20         422   150  2.813333   20.542639    0.136951  4.867924   \n",
      "18     25         424   150  2.826667   20.591260    0.137275  4.856429   \n",
      "19     30         422   145  2.910345   20.542639    0.141673  4.867924   \n",
      "20     35         538   198  2.717172   23.194827    0.117146  4.311306   \n",
      "21     40         422   157  2.687898   20.542639    0.130845  4.867924   \n",
      "22     50         450   178  2.528090   21.213203    0.119175  4.714045   \n",
      "23     60         422   161  2.621118   20.542639    0.127594  4.867924   \n",
      "24     70         434   147  2.952381   20.832667    0.141719  4.800154   \n",
      "25     80         582   221  2.633484   24.124676    0.109161  4.145133   \n",
      "26     90         446   156  2.858974   21.118712    0.135376  4.735137   \n",
      "\n",
      "    coincident 1  time 1       rate 1  error coin 1  error rate 1     rel 1  \\\n",
      "0          22528   18.71  1204.061999    150.093304      8.022090  0.666252   \n",
      "1          26732   22.14  1207.407407    163.499235      7.384789  0.611624   \n",
      "2          24002   20.31  1181.782373    154.925789      7.628055  0.645470   \n",
      "3          19488   16.15  1206.687307    139.599427      8.643927  0.716335   \n",
      "4          16522   14.09  1172.604684    128.537932      9.122635  0.777980   \n",
      "5          11804    9.83  1200.813835    108.646215     11.052514  0.920419   \n",
      "6          16040   13.43  1194.341028    126.649122      9.430314  0.789583   \n",
      "7          16652   14.04  1186.039886    129.042629      9.191070  0.774938   \n",
      "8          18054   15.29  1180.771746    134.365174      8.787781  0.744240   \n",
      "9          19128   16.63  1150.210463    138.304013      8.316537  0.723045   \n",
      "10         20196   17.34  1164.705882    142.112631      8.195653  0.703667   \n",
      "11         19352   16.91  1144.411591    139.111466      8.226580  0.718848   \n",
      "12         16700   14.47  1154.111956    129.228480      8.930786  0.773823   \n",
      "13         17068   14.83  1150.910317    130.644556      8.809478  0.765436   \n",
      "14         12904   11.21  1151.115076    113.595775     10.133432  0.880314   \n",
      "15         19510   16.92  1153.073286    139.678202      8.255213  0.715931   \n",
      "16         20128   17.50  1150.171429    141.873183      8.107039  0.704855   \n",
      "17         12344   10.65  1159.061033    111.103555     10.432259  0.900061   \n",
      "18         17152   14.66  1169.986357    130.965644      8.933536  0.763559   \n",
      "19         14550   12.55  1159.362550    120.623381      9.611425  0.829027   \n",
      "20         12490   10.27  1216.163583    111.758669     10.882051  0.894785   \n",
      "21         40384   33.47  1206.573050    200.957707      6.004114  0.497617   \n",
      "22         13922   11.57  1203.284356    117.991525     10.198057  0.847518   \n",
      "23         14958   12.44  1202.411576    122.302903      9.831423  0.817642   \n",
      "24         18226   14.84  1228.167116    135.003704      9.097285  0.740720   \n",
      "25         17768   14.54  1222.008253    133.296662      9.167583  0.750206   \n",
      "26         29628   24.48  1210.294118    172.127859      7.031367  0.580963   \n",
      "\n",
      "    tot rate  \n",
      "0   0.002163  \n",
      "1   0.001958  \n",
      "2   0.002232  \n",
      "3   0.002155  \n",
      "4   0.002025  \n",
      "5   0.002231  \n",
      "6   0.001941  \n",
      "7   0.002509  \n",
      "8   0.002440  \n",
      "9   0.002471  \n",
      "10  0.002757  \n",
      "11  0.002586  \n",
      "12  0.002294  \n",
      "13  0.002179  \n",
      "14  0.002252  \n",
      "15  0.002475  \n",
      "16  0.002335  \n",
      "17  0.002427  \n",
      "18  0.002416  \n",
      "19  0.002510  \n",
      "20  0.002234  \n",
      "21  0.002228  \n",
      "22  0.002101  \n",
      "23  0.002180  \n",
      "24  0.002404  \n",
      "25  0.002155  \n",
      "26  0.002362  \n"
     ]
    }
   ],
   "source": [
    "data = pd.read_csv(\"data.csv\")\n",
    "print(data)\n"
   ]
  },
  {
   "cell_type": "code",
   "execution_count": 14,
   "id": "d014ac00-9ac7-4cee-8d71-6b0c09f0450b",
   "metadata": {
    "tags": []
   },
   "outputs": [],
   "source": [
    "data = data.to_numpy()\n",
    "theta = data[:, 0]\n",
    "N_coin = data[:, 1]\n",
    "t_coin = data[:, 2]\n",
    "N_1 = data[:, 7]\n",
    "t_1 = data[:, 8]\n",
    "theta *= np.pi/180"
   ]
  },
  {
   "cell_type": "code",
   "execution_count": 15,
   "id": "7aacfee5-94b3-4e66-b268-b28c6d4774cc",
   "metadata": {
    "tags": []
   },
   "outputs": [],
   "source": [
    "tot_rate = (N_coin*t_1)/(N_1*t_coin)\n",
    "N_coin_err = np.sqrt(N_coin)\n",
    "N_1_err = np.sqrt(N_1)\n",
    "tot_rate_err = np.sqrt(\n",
    "                        ( (N_coin_err*t_1)/(N_1*t_coin) )**2 + ( (N_coin*t_1*N_1_err)/(t_coin*N_1**2) )**2 \n",
    "                        )\n"
   ]
  },
  {
   "cell_type": "code",
   "execution_count": 16,
   "id": "242d7648-25ed-473c-ab0e-7260825c1339",
   "metadata": {
    "tags": []
   },
   "outputs": [],
   "source": [
    "def fit_func(x, a0, a1, a2, scale):\n",
    "    return scale*(a0 + a1 * np.cos(x)**2 + a2 * np.cos(x)**4)"
   ]
  },
  {
   "cell_type": "code",
   "execution_count": 17,
   "id": "cd2671c7-cb27-4778-9f6a-945743022919",
   "metadata": {
    "tags": []
   },
   "outputs": [],
   "source": [
    "params_optimum, params_cov = curve_fit(fit_func, theta, tot_rate, sigma=tot_rate_err, p0=[1, 1/8, 1/24, 0.0023])"
   ]
  },
  {
   "cell_type": "code",
   "execution_count": 18,
   "id": "38e8be35-6f30-438b-9276-7cc84405bf8d",
   "metadata": {
    "tags": []
   },
   "outputs": [],
   "source": [
    "a0, a1, a2, scale = params_optimum\n",
    "a0_err, a1_err, a2_err, scale_err = np.diag(params_cov)"
   ]
  },
  {
   "cell_type": "code",
   "execution_count": 19,
   "id": "e550b629-260b-4916-999c-8bbc05633c19",
   "metadata": {
    "tags": []
   },
   "outputs": [
    {
     "name": "stdout",
     "output_type": "stream",
     "text": [
      "[ 0.99843926 -0.0778094   0.19362633  0.00217909]\n",
      "[4.94456231e+12 3.00295534e+10 1.85957377e+11 2.35523474e+07]\n",
      "[ 4.95229156e+14 -3.85937332e+13  9.60393022e+13  1.08083493e+12] %\n"
     ]
    }
   ],
   "source": [
    "print(params_optimum)\n",
    "print(np.diag(params_cov))\n",
    "print(np.diag(params_cov)/params_optimum * 100, '%')"
   ]
  },
  {
   "cell_type": "code",
   "execution_count": 20,
   "id": "6c8400a7-a269-4b49-95c8-d6deb28dc629",
   "metadata": {
    "tags": []
   },
   "outputs": [
    {
     "data": {
      "text/plain": [
       "<matplotlib.legend.Legend at 0x1d0699d5ad0>"
      ]
     },
     "execution_count": 20,
     "metadata": {},
     "output_type": "execute_result"
    }
   ],
   "source": [
    "plt.errorbar(theta, tot_rate, yerr=tot_rate_err, ls=\"None\", marker='.', ms=20, label='Data', elinewidth=3)\n",
    "x = np.linspace(-pi/2, pi/2, 100)\n",
    "plt.plot(x, fit_func(x, 1, 1/8, 1/24, scale), label='Expected', lw=3)\n",
    "plt.plot(x, fit_func(x, *params_optimum), label='Fit', lw=3)\n",
    "plt.legend(loc='best')"
   ]
  },
  {
   "cell_type": "code",
   "execution_count": null,
   "id": "8a5a7f8b-122e-4305-b482-28def79e6fb9",
   "metadata": {},
   "outputs": [],
   "source": []
  },
  {
   "cell_type": "code",
   "execution_count": null,
   "id": "f9727374-7e18-456f-9789-e6fd93ab6c5e",
   "metadata": {},
   "outputs": [],
   "source": []
  }
 ],
 "metadata": {
  "kernelspec": {
   "display_name": "Python 3 (ipykernel)",
   "language": "python",
   "name": "python3"
  },
  "language_info": {
   "codemirror_mode": {
    "name": "ipython",
    "version": 3
   },
   "file_extension": ".py",
   "mimetype": "text/x-python",
   "name": "python",
   "nbconvert_exporter": "python",
   "pygments_lexer": "ipython3",
   "version": "3.11.2"
  }
 },
 "nbformat": 4,
 "nbformat_minor": 5
}
